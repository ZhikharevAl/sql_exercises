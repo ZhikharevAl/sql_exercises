{
 "cells": [
  {
   "cell_type": "code",
   "execution_count": 136,
   "metadata": {
    "collapsed": true
   },
   "outputs": [],
   "source": [
    "import sqlite3\n",
    "con = sqlite3.connect('db')"
   ]
  },
  {
   "cell_type": "code",
   "execution_count": 137,
   "outputs": [],
   "source": [
    "import pandas as pd"
   ],
   "metadata": {
    "collapsed": false
   }
  },
  {
   "cell_type": "code",
   "execution_count": 138,
   "outputs": [
    {
     "data": {
      "text/plain": "'3.39.4'"
     },
     "execution_count": 138,
     "metadata": {},
     "output_type": "execute_result"
    }
   ],
   "source": [
    "sqlite3.sqlite_version"
   ],
   "metadata": {
    "collapsed": false
   }
  },
  {
   "cell_type": "code",
   "execution_count": 139,
   "outputs": [
    {
     "data": {
      "text/plain": "   age     sex  job housing saving_accounts checking_account  credit_amount  \\\n0   33    male    2     own             NaN              NaN           3074   \n1   43    male    1     own          little           little           1344   \n2   52    male    2     own      quite rich              NaN            936   \n3   35  female    3     own          little              NaN           1393   \n4   28    male    2     own          little              NaN            776   \n\n   duration    purpose  default          contract_dt  client_id  \n0         9   radio/TV        0  2008-06-29 18:52:00        210  \n1        12        car        0  2007-05-20 18:30:19        929  \n2         9  education        0  2008-04-27 08:23:07        200  \n3        11        car        0  2007-05-06 10:58:22         45  \n4        12   radio/TV        0  2007-07-21 13:22:14        358  ",
      "text/html": "<div>\n<style scoped>\n    .dataframe tbody tr th:only-of-type {\n        vertical-align: middle;\n    }\n\n    .dataframe tbody tr th {\n        vertical-align: top;\n    }\n\n    .dataframe thead th {\n        text-align: right;\n    }\n</style>\n<table border=\"1\" class=\"dataframe\">\n  <thead>\n    <tr style=\"text-align: right;\">\n      <th></th>\n      <th>age</th>\n      <th>sex</th>\n      <th>job</th>\n      <th>housing</th>\n      <th>saving_accounts</th>\n      <th>checking_account</th>\n      <th>credit_amount</th>\n      <th>duration</th>\n      <th>purpose</th>\n      <th>default</th>\n      <th>contract_dt</th>\n      <th>client_id</th>\n    </tr>\n  </thead>\n  <tbody>\n    <tr>\n      <th>0</th>\n      <td>33</td>\n      <td>male</td>\n      <td>2</td>\n      <td>own</td>\n      <td>NaN</td>\n      <td>NaN</td>\n      <td>3074</td>\n      <td>9</td>\n      <td>radio/TV</td>\n      <td>0</td>\n      <td>2008-06-29 18:52:00</td>\n      <td>210</td>\n    </tr>\n    <tr>\n      <th>1</th>\n      <td>43</td>\n      <td>male</td>\n      <td>1</td>\n      <td>own</td>\n      <td>little</td>\n      <td>little</td>\n      <td>1344</td>\n      <td>12</td>\n      <td>car</td>\n      <td>0</td>\n      <td>2007-05-20 18:30:19</td>\n      <td>929</td>\n    </tr>\n    <tr>\n      <th>2</th>\n      <td>52</td>\n      <td>male</td>\n      <td>2</td>\n      <td>own</td>\n      <td>quite rich</td>\n      <td>NaN</td>\n      <td>936</td>\n      <td>9</td>\n      <td>education</td>\n      <td>0</td>\n      <td>2008-04-27 08:23:07</td>\n      <td>200</td>\n    </tr>\n    <tr>\n      <th>3</th>\n      <td>35</td>\n      <td>female</td>\n      <td>3</td>\n      <td>own</td>\n      <td>little</td>\n      <td>NaN</td>\n      <td>1393</td>\n      <td>11</td>\n      <td>car</td>\n      <td>0</td>\n      <td>2007-05-06 10:58:22</td>\n      <td>45</td>\n    </tr>\n    <tr>\n      <th>4</th>\n      <td>28</td>\n      <td>male</td>\n      <td>2</td>\n      <td>own</td>\n      <td>little</td>\n      <td>NaN</td>\n      <td>776</td>\n      <td>12</td>\n      <td>radio/TV</td>\n      <td>0</td>\n      <td>2007-07-21 13:22:14</td>\n      <td>358</td>\n    </tr>\n  </tbody>\n</table>\n</div>"
     },
     "execution_count": 139,
     "metadata": {},
     "output_type": "execute_result"
    }
   ],
   "source": [
    "df = pd.read_csv('database/german_credit_augmented.csv')\n",
    "df.head()"
   ],
   "metadata": {
    "collapsed": false
   }
  },
  {
   "cell_type": "code",
   "execution_count": 140,
   "outputs": [
    {
     "data": {
      "text/plain": "1000"
     },
     "execution_count": 140,
     "metadata": {},
     "output_type": "execute_result"
    }
   ],
   "source": [
    "df.to_sql('german_credit', con, index=False, if_exists='replace')"
   ],
   "metadata": {
    "collapsed": false
   }
  },
  {
   "cell_type": "code",
   "execution_count": 141,
   "outputs": [],
   "source": [
    "def select(sql):\n",
    "    return pd.read_sql(sql, con)"
   ],
   "metadata": {
    "collapsed": false
   }
  },
  {
   "cell_type": "code",
   "execution_count": 142,
   "outputs": [],
   "source": [
    "sql = '''select t.sex,\n",
    "count(1)\n",
    "from german_credit t\n",
    "group by t.sex'''"
   ],
   "metadata": {
    "collapsed": false
   }
  },
  {
   "cell_type": "code",
   "execution_count": 143,
   "outputs": [
    {
     "data": {
      "text/plain": "      sex  count(1)\n0  female       310\n1    male       690",
      "text/html": "<div>\n<style scoped>\n    .dataframe tbody tr th:only-of-type {\n        vertical-align: middle;\n    }\n\n    .dataframe tbody tr th {\n        vertical-align: top;\n    }\n\n    .dataframe thead th {\n        text-align: right;\n    }\n</style>\n<table border=\"1\" class=\"dataframe\">\n  <thead>\n    <tr style=\"text-align: right;\">\n      <th></th>\n      <th>sex</th>\n      <th>count(1)</th>\n    </tr>\n  </thead>\n  <tbody>\n    <tr>\n      <th>0</th>\n      <td>female</td>\n      <td>310</td>\n    </tr>\n    <tr>\n      <th>1</th>\n      <td>male</td>\n      <td>690</td>\n    </tr>\n  </tbody>\n</table>\n</div>"
     },
     "execution_count": 143,
     "metadata": {},
     "output_type": "execute_result"
    }
   ],
   "source": [
    "select(sql)"
   ],
   "metadata": {
    "collapsed": false
   }
  },
  {
   "cell_type": "code",
   "execution_count": 144,
   "outputs": [
    {
     "data": {
      "text/plain": "        count         mean\nsex                       \nfemale    310  2877.774194\nmale      690  3448.040580",
      "text/html": "<div>\n<style scoped>\n    .dataframe tbody tr th:only-of-type {\n        vertical-align: middle;\n    }\n\n    .dataframe tbody tr th {\n        vertical-align: top;\n    }\n\n    .dataframe thead th {\n        text-align: right;\n    }\n</style>\n<table border=\"1\" class=\"dataframe\">\n  <thead>\n    <tr style=\"text-align: right;\">\n      <th></th>\n      <th>count</th>\n      <th>mean</th>\n    </tr>\n    <tr>\n      <th>sex</th>\n      <th></th>\n      <th></th>\n    </tr>\n  </thead>\n  <tbody>\n    <tr>\n      <th>female</th>\n      <td>310</td>\n      <td>2877.774194</td>\n    </tr>\n    <tr>\n      <th>male</th>\n      <td>690</td>\n      <td>3448.040580</td>\n    </tr>\n  </tbody>\n</table>\n</div>"
     },
     "execution_count": 144,
     "metadata": {},
     "output_type": "execute_result"
    }
   ],
   "source": [
    "df.groupby('sex')['credit_amount'].agg(['count', 'mean'])"
   ],
   "metadata": {
    "collapsed": false
   }
  },
  {
   "cell_type": "code",
   "execution_count": 145,
   "outputs": [],
   "source": [
    "sql = '''select t.sex,\n",
    "count(1) as cnt,\n",
    "avg(t.credit_amount) as credit_amount_avg\n",
    "from german_credit t\n",
    "group by t.sex'''"
   ],
   "metadata": {
    "collapsed": false
   }
  },
  {
   "cell_type": "code",
   "execution_count": 146,
   "outputs": [
    {
     "data": {
      "text/plain": "      sex  cnt  credit_amount_avg\n0  female  310        2877.774194\n1    male  690        3448.040580",
      "text/html": "<div>\n<style scoped>\n    .dataframe tbody tr th:only-of-type {\n        vertical-align: middle;\n    }\n\n    .dataframe tbody tr th {\n        vertical-align: top;\n    }\n\n    .dataframe thead th {\n        text-align: right;\n    }\n</style>\n<table border=\"1\" class=\"dataframe\">\n  <thead>\n    <tr style=\"text-align: right;\">\n      <th></th>\n      <th>sex</th>\n      <th>cnt</th>\n      <th>credit_amount_avg</th>\n    </tr>\n  </thead>\n  <tbody>\n    <tr>\n      <th>0</th>\n      <td>female</td>\n      <td>310</td>\n      <td>2877.774194</td>\n    </tr>\n    <tr>\n      <th>1</th>\n      <td>male</td>\n      <td>690</td>\n      <td>3448.040580</td>\n    </tr>\n  </tbody>\n</table>\n</div>"
     },
     "execution_count": 146,
     "metadata": {},
     "output_type": "execute_result"
    }
   ],
   "source": [
    "select(sql)"
   ],
   "metadata": {
    "collapsed": false
   }
  },
  {
   "cell_type": "code",
   "execution_count": 147,
   "outputs": [],
   "source": [
    "sql = '''select distinct t.housing from german_credit t'''"
   ],
   "metadata": {
    "collapsed": false
   }
  },
  {
   "cell_type": "code",
   "execution_count": 148,
   "outputs": [
    {
     "data": {
      "text/plain": "  housing\n0     own\n1    rent\n2    free",
      "text/html": "<div>\n<style scoped>\n    .dataframe tbody tr th:only-of-type {\n        vertical-align: middle;\n    }\n\n    .dataframe tbody tr th {\n        vertical-align: top;\n    }\n\n    .dataframe thead th {\n        text-align: right;\n    }\n</style>\n<table border=\"1\" class=\"dataframe\">\n  <thead>\n    <tr style=\"text-align: right;\">\n      <th></th>\n      <th>housing</th>\n    </tr>\n  </thead>\n  <tbody>\n    <tr>\n      <th>0</th>\n      <td>own</td>\n    </tr>\n    <tr>\n      <th>1</th>\n      <td>rent</td>\n    </tr>\n    <tr>\n      <th>2</th>\n      <td>free</td>\n    </tr>\n  </tbody>\n</table>\n</div>"
     },
     "execution_count": 148,
     "metadata": {},
     "output_type": "execute_result"
    }
   ],
   "source": [
    "select(sql)"
   ],
   "metadata": {
    "collapsed": false
   }
  },
  {
   "cell_type": "code",
   "execution_count": 149,
   "outputs": [],
   "source": [
    "sql = '''select count(t.checking_account), count(1) from german_credit t'''"
   ],
   "metadata": {
    "collapsed": false
   }
  },
  {
   "cell_type": "code",
   "execution_count": 150,
   "outputs": [
    {
     "data": {
      "text/plain": "   count(t.checking_account)  count(1)\n0                        606      1000",
      "text/html": "<div>\n<style scoped>\n    .dataframe tbody tr th:only-of-type {\n        vertical-align: middle;\n    }\n\n    .dataframe tbody tr th {\n        vertical-align: top;\n    }\n\n    .dataframe thead th {\n        text-align: right;\n    }\n</style>\n<table border=\"1\" class=\"dataframe\">\n  <thead>\n    <tr style=\"text-align: right;\">\n      <th></th>\n      <th>count(t.checking_account)</th>\n      <th>count(1)</th>\n    </tr>\n  </thead>\n  <tbody>\n    <tr>\n      <th>0</th>\n      <td>606</td>\n      <td>1000</td>\n    </tr>\n  </tbody>\n</table>\n</div>"
     },
     "execution_count": 150,
     "metadata": {},
     "output_type": "execute_result"
    }
   ],
   "source": [
    "select(sql)"
   ],
   "metadata": {
    "collapsed": false
   }
  },
  {
   "cell_type": "code",
   "execution_count": 151,
   "outputs": [],
   "source": [
    "sql = '''\n",
    "select\n",
    "t.checking_account,\n",
    "\n",
    "count(*) as cnt,\n",
    "avg(t.credit_amount) as credit_amount_avg\n",
    "\n",
    " from german_credit t\n",
    " group by t.checking_account\n",
    " '''"
   ],
   "metadata": {
    "collapsed": false
   }
  },
  {
   "cell_type": "code",
   "execution_count": 153,
   "outputs": [
    {
     "data": {
      "text/plain": "  checking_account  cnt  credit_amount_avg\n0             None  394        3133.101523\n1           little  274        3175.218978\n2         moderate  269        3827.561338\n3             rich   63        2177.650794",
      "text/html": "<div>\n<style scoped>\n    .dataframe tbody tr th:only-of-type {\n        vertical-align: middle;\n    }\n\n    .dataframe tbody tr th {\n        vertical-align: top;\n    }\n\n    .dataframe thead th {\n        text-align: right;\n    }\n</style>\n<table border=\"1\" class=\"dataframe\">\n  <thead>\n    <tr style=\"text-align: right;\">\n      <th></th>\n      <th>checking_account</th>\n      <th>cnt</th>\n      <th>credit_amount_avg</th>\n    </tr>\n  </thead>\n  <tbody>\n    <tr>\n      <th>0</th>\n      <td>None</td>\n      <td>394</td>\n      <td>3133.101523</td>\n    </tr>\n    <tr>\n      <th>1</th>\n      <td>little</td>\n      <td>274</td>\n      <td>3175.218978</td>\n    </tr>\n    <tr>\n      <th>2</th>\n      <td>moderate</td>\n      <td>269</td>\n      <td>3827.561338</td>\n    </tr>\n    <tr>\n      <th>3</th>\n      <td>rich</td>\n      <td>63</td>\n      <td>2177.650794</td>\n    </tr>\n  </tbody>\n</table>\n</div>"
     },
     "execution_count": 153,
     "metadata": {},
     "output_type": "execute_result"
    }
   ],
   "source": [
    "select(sql)"
   ],
   "metadata": {
    "collapsed": false
   }
  },
  {
   "cell_type": "code",
   "execution_count": 154,
   "outputs": [
    {
     "data": {
      "text/plain": "checking_account\nlittle      274\nmoderate    269\nrich         63\nNaN         394\nName: credit_amount, dtype: int64"
     },
     "execution_count": 154,
     "metadata": {},
     "output_type": "execute_result"
    }
   ],
   "source": [
    "df.groupby('checking_account',dropna=False)['credit_amount'].count()"
   ],
   "metadata": {
    "collapsed": false
   }
  },
  {
   "cell_type": "code",
   "execution_count": 155,
   "outputs": [],
   "source": [
    "sql = '''select\n",
    "sum(case when t.checking_account is null then 1 else 0 end) as is_null,\n",
    "\n",
    "count(case when t.checking_account is null then 1 else null end) as is_null2\n",
    "\n",
    " from german_credit t'''"
   ],
   "metadata": {
    "collapsed": false
   }
  },
  {
   "cell_type": "code",
   "execution_count": 156,
   "outputs": [
    {
     "data": {
      "text/plain": "   is_null  is_null2\n0      394       394",
      "text/html": "<div>\n<style scoped>\n    .dataframe tbody tr th:only-of-type {\n        vertical-align: middle;\n    }\n\n    .dataframe tbody tr th {\n        vertical-align: top;\n    }\n\n    .dataframe thead th {\n        text-align: right;\n    }\n</style>\n<table border=\"1\" class=\"dataframe\">\n  <thead>\n    <tr style=\"text-align: right;\">\n      <th></th>\n      <th>is_null</th>\n      <th>is_null2</th>\n    </tr>\n  </thead>\n  <tbody>\n    <tr>\n      <th>0</th>\n      <td>394</td>\n      <td>394</td>\n    </tr>\n  </tbody>\n</table>\n</div>"
     },
     "execution_count": 156,
     "metadata": {},
     "output_type": "execute_result"
    }
   ],
   "source": [
    "select(sql)"
   ],
   "metadata": {
    "collapsed": false
   }
  },
  {
   "cell_type": "code",
   "execution_count": 157,
   "outputs": [],
   "source": [
    "sql = '''select\n",
    "\n",
    "t.checking_account,\n",
    "\n",
    "coalesce(t.checking_account,'no_info')\n",
    "\n",
    " from german_credit t'''"
   ],
   "metadata": {
    "collapsed": false
   }
  },
  {
   "cell_type": "code",
   "execution_count": 158,
   "outputs": [
    {
     "data": {
      "text/plain": "    checking_account coalesce(t.checking_account,'no_info')\n0               None                                no_info\n1             little                                 little\n2               None                                no_info\n3               None                                no_info\n4               None                                no_info\n..               ...                                    ...\n995           little                                 little\n996         moderate                               moderate\n997         moderate                               moderate\n998             None                                no_info\n999         moderate                               moderate\n\n[1000 rows x 2 columns]",
      "text/html": "<div>\n<style scoped>\n    .dataframe tbody tr th:only-of-type {\n        vertical-align: middle;\n    }\n\n    .dataframe tbody tr th {\n        vertical-align: top;\n    }\n\n    .dataframe thead th {\n        text-align: right;\n    }\n</style>\n<table border=\"1\" class=\"dataframe\">\n  <thead>\n    <tr style=\"text-align: right;\">\n      <th></th>\n      <th>checking_account</th>\n      <th>coalesce(t.checking_account,'no_info')</th>\n    </tr>\n  </thead>\n  <tbody>\n    <tr>\n      <th>0</th>\n      <td>None</td>\n      <td>no_info</td>\n    </tr>\n    <tr>\n      <th>1</th>\n      <td>little</td>\n      <td>little</td>\n    </tr>\n    <tr>\n      <th>2</th>\n      <td>None</td>\n      <td>no_info</td>\n    </tr>\n    <tr>\n      <th>3</th>\n      <td>None</td>\n      <td>no_info</td>\n    </tr>\n    <tr>\n      <th>4</th>\n      <td>None</td>\n      <td>no_info</td>\n    </tr>\n    <tr>\n      <th>...</th>\n      <td>...</td>\n      <td>...</td>\n    </tr>\n    <tr>\n      <th>995</th>\n      <td>little</td>\n      <td>little</td>\n    </tr>\n    <tr>\n      <th>996</th>\n      <td>moderate</td>\n      <td>moderate</td>\n    </tr>\n    <tr>\n      <th>997</th>\n      <td>moderate</td>\n      <td>moderate</td>\n    </tr>\n    <tr>\n      <th>998</th>\n      <td>None</td>\n      <td>no_info</td>\n    </tr>\n    <tr>\n      <th>999</th>\n      <td>moderate</td>\n      <td>moderate</td>\n    </tr>\n  </tbody>\n</table>\n<p>1000 rows × 2 columns</p>\n</div>"
     },
     "execution_count": 158,
     "metadata": {},
     "output_type": "execute_result"
    }
   ],
   "source": [
    "select(sql)"
   ],
   "metadata": {
    "collapsed": false
   }
  },
  {
   "cell_type": "code",
   "execution_count": 159,
   "outputs": [],
   "source": [
    "t = pd.DataFrame({'id':[1,1,2],'name':['a','a','b']})"
   ],
   "metadata": {
    "collapsed": false
   }
  },
  {
   "cell_type": "code",
   "execution_count": 160,
   "outputs": [
    {
     "data": {
      "text/plain": "   id name\n0   1    a\n1   1    a\n2   2    b",
      "text/html": "<div>\n<style scoped>\n    .dataframe tbody tr th:only-of-type {\n        vertical-align: middle;\n    }\n\n    .dataframe tbody tr th {\n        vertical-align: top;\n    }\n\n    .dataframe thead th {\n        text-align: right;\n    }\n</style>\n<table border=\"1\" class=\"dataframe\">\n  <thead>\n    <tr style=\"text-align: right;\">\n      <th></th>\n      <th>id</th>\n      <th>name</th>\n    </tr>\n  </thead>\n  <tbody>\n    <tr>\n      <th>0</th>\n      <td>1</td>\n      <td>a</td>\n    </tr>\n    <tr>\n      <th>1</th>\n      <td>1</td>\n      <td>a</td>\n    </tr>\n    <tr>\n      <th>2</th>\n      <td>2</td>\n      <td>b</td>\n    </tr>\n  </tbody>\n</table>\n</div>"
     },
     "execution_count": 160,
     "metadata": {},
     "output_type": "execute_result"
    }
   ],
   "source": [
    "t"
   ],
   "metadata": {
    "collapsed": false
   }
  },
  {
   "cell_type": "code",
   "execution_count": 161,
   "outputs": [
    {
     "data": {
      "text/plain": "3"
     },
     "execution_count": 161,
     "metadata": {},
     "output_type": "execute_result"
    }
   ],
   "source": [
    "t.to_sql('dupl_test',con,index=False,if_exists='replace')"
   ],
   "metadata": {
    "collapsed": false
   }
  },
  {
   "cell_type": "code",
   "execution_count": 162,
   "outputs": [],
   "source": [
    "sql = '''select * from dupl_test t'''"
   ],
   "metadata": {
    "collapsed": false
   }
  },
  {
   "cell_type": "code",
   "execution_count": 163,
   "outputs": [
    {
     "data": {
      "text/plain": "   id name\n0   1    a\n1   1    a\n2   2    b",
      "text/html": "<div>\n<style scoped>\n    .dataframe tbody tr th:only-of-type {\n        vertical-align: middle;\n    }\n\n    .dataframe tbody tr th {\n        vertical-align: top;\n    }\n\n    .dataframe thead th {\n        text-align: right;\n    }\n</style>\n<table border=\"1\" class=\"dataframe\">\n  <thead>\n    <tr style=\"text-align: right;\">\n      <th></th>\n      <th>id</th>\n      <th>name</th>\n    </tr>\n  </thead>\n  <tbody>\n    <tr>\n      <th>0</th>\n      <td>1</td>\n      <td>a</td>\n    </tr>\n    <tr>\n      <th>1</th>\n      <td>1</td>\n      <td>a</td>\n    </tr>\n    <tr>\n      <th>2</th>\n      <td>2</td>\n      <td>b</td>\n    </tr>\n  </tbody>\n</table>\n</div>"
     },
     "execution_count": 163,
     "metadata": {},
     "output_type": "execute_result"
    }
   ],
   "source": [
    "select(sql)"
   ],
   "metadata": {
    "collapsed": false
   }
  },
  {
   "cell_type": "code",
   "execution_count": 164,
   "outputs": [],
   "source": [
    "sql = '''select t.id, t.name, count(1) as cnt from dupl_test t\n",
    "group by t.id, t.name\n",
    "'''"
   ],
   "metadata": {
    "collapsed": false
   }
  },
  {
   "cell_type": "code",
   "execution_count": 165,
   "outputs": [
    {
     "data": {
      "text/plain": "   id name  cnt\n0   1    a    2\n1   2    b    1",
      "text/html": "<div>\n<style scoped>\n    .dataframe tbody tr th:only-of-type {\n        vertical-align: middle;\n    }\n\n    .dataframe tbody tr th {\n        vertical-align: top;\n    }\n\n    .dataframe thead th {\n        text-align: right;\n    }\n</style>\n<table border=\"1\" class=\"dataframe\">\n  <thead>\n    <tr style=\"text-align: right;\">\n      <th></th>\n      <th>id</th>\n      <th>name</th>\n      <th>cnt</th>\n    </tr>\n  </thead>\n  <tbody>\n    <tr>\n      <th>0</th>\n      <td>1</td>\n      <td>a</td>\n      <td>2</td>\n    </tr>\n    <tr>\n      <th>1</th>\n      <td>2</td>\n      <td>b</td>\n      <td>1</td>\n    </tr>\n  </tbody>\n</table>\n</div>"
     },
     "execution_count": 165,
     "metadata": {},
     "output_type": "execute_result"
    }
   ],
   "source": [
    "select(sql)"
   ],
   "metadata": {
    "collapsed": false
   }
  },
  {
   "cell_type": "code",
   "execution_count": 166,
   "outputs": [],
   "source": [
    "sql = '''select t.id, t.name, count(1) as cnt from dupl_test t\n",
    "group by t.id, t.name\n",
    "having count(1) > 1\n",
    "'''"
   ],
   "metadata": {
    "collapsed": false
   }
  },
  {
   "cell_type": "code",
   "execution_count": 167,
   "outputs": [
    {
     "data": {
      "text/plain": "   id name  cnt\n0   1    a    2",
      "text/html": "<div>\n<style scoped>\n    .dataframe tbody tr th:only-of-type {\n        vertical-align: middle;\n    }\n\n    .dataframe tbody tr th {\n        vertical-align: top;\n    }\n\n    .dataframe thead th {\n        text-align: right;\n    }\n</style>\n<table border=\"1\" class=\"dataframe\">\n  <thead>\n    <tr style=\"text-align: right;\">\n      <th></th>\n      <th>id</th>\n      <th>name</th>\n      <th>cnt</th>\n    </tr>\n  </thead>\n  <tbody>\n    <tr>\n      <th>0</th>\n      <td>1</td>\n      <td>a</td>\n      <td>2</td>\n    </tr>\n  </tbody>\n</table>\n</div>"
     },
     "execution_count": 167,
     "metadata": {},
     "output_type": "execute_result"
    }
   ],
   "source": [
    "select(sql)"
   ],
   "metadata": {
    "collapsed": false
   }
  },
  {
   "cell_type": "code",
   "execution_count": 168,
   "outputs": [],
   "source": [
    "t = pd.DataFrame({'id':[1,1,2,2,3],\n",
    "                  'name':['a','b','c','d','e']})"
   ],
   "metadata": {
    "collapsed": false
   }
  },
  {
   "cell_type": "code",
   "execution_count": 169,
   "outputs": [
    {
     "data": {
      "text/plain": "   id name\n0   1    a\n1   1    b\n2   2    c\n3   2    d\n4   3    e",
      "text/html": "<div>\n<style scoped>\n    .dataframe tbody tr th:only-of-type {\n        vertical-align: middle;\n    }\n\n    .dataframe tbody tr th {\n        vertical-align: top;\n    }\n\n    .dataframe thead th {\n        text-align: right;\n    }\n</style>\n<table border=\"1\" class=\"dataframe\">\n  <thead>\n    <tr style=\"text-align: right;\">\n      <th></th>\n      <th>id</th>\n      <th>name</th>\n    </tr>\n  </thead>\n  <tbody>\n    <tr>\n      <th>0</th>\n      <td>1</td>\n      <td>a</td>\n    </tr>\n    <tr>\n      <th>1</th>\n      <td>1</td>\n      <td>b</td>\n    </tr>\n    <tr>\n      <th>2</th>\n      <td>2</td>\n      <td>c</td>\n    </tr>\n    <tr>\n      <th>3</th>\n      <td>2</td>\n      <td>d</td>\n    </tr>\n    <tr>\n      <th>4</th>\n      <td>3</td>\n      <td>e</td>\n    </tr>\n  </tbody>\n</table>\n</div>"
     },
     "execution_count": 169,
     "metadata": {},
     "output_type": "execute_result"
    }
   ],
   "source": [
    "t"
   ],
   "metadata": {
    "collapsed": false
   }
  },
  {
   "cell_type": "code",
   "execution_count": 170,
   "outputs": [
    {
     "data": {
      "text/plain": "5"
     },
     "execution_count": 170,
     "metadata": {},
     "output_type": "execute_result"
    }
   ],
   "source": [
    "t.to_sql('dupl_test',con,index=False,if_exists='replace')"
   ],
   "metadata": {
    "collapsed": false
   }
  },
  {
   "cell_type": "code",
   "execution_count": 171,
   "outputs": [],
   "source": [
    "sql = '''select * from dupl_test t'''"
   ],
   "metadata": {
    "collapsed": false
   }
  },
  {
   "cell_type": "code",
   "execution_count": 172,
   "outputs": [
    {
     "data": {
      "text/plain": "   id name\n0   1    a\n1   1    b\n2   2    c\n3   2    d\n4   3    e",
      "text/html": "<div>\n<style scoped>\n    .dataframe tbody tr th:only-of-type {\n        vertical-align: middle;\n    }\n\n    .dataframe tbody tr th {\n        vertical-align: top;\n    }\n\n    .dataframe thead th {\n        text-align: right;\n    }\n</style>\n<table border=\"1\" class=\"dataframe\">\n  <thead>\n    <tr style=\"text-align: right;\">\n      <th></th>\n      <th>id</th>\n      <th>name</th>\n    </tr>\n  </thead>\n  <tbody>\n    <tr>\n      <th>0</th>\n      <td>1</td>\n      <td>a</td>\n    </tr>\n    <tr>\n      <th>1</th>\n      <td>1</td>\n      <td>b</td>\n    </tr>\n    <tr>\n      <th>2</th>\n      <td>2</td>\n      <td>c</td>\n    </tr>\n    <tr>\n      <th>3</th>\n      <td>2</td>\n      <td>d</td>\n    </tr>\n    <tr>\n      <th>4</th>\n      <td>3</td>\n      <td>e</td>\n    </tr>\n  </tbody>\n</table>\n</div>"
     },
     "execution_count": 172,
     "metadata": {},
     "output_type": "execute_result"
    }
   ],
   "source": [
    "select(sql)"
   ],
   "metadata": {
    "collapsed": false
   }
  },
  {
   "cell_type": "code",
   "execution_count": 173,
   "outputs": [],
   "source": [
    "sql = '''select t.id, count(1) as cnt from dupl_test t\n",
    "group by t.id\n",
    "having count(1) > 1\n",
    "'''"
   ],
   "metadata": {
    "collapsed": false
   }
  },
  {
   "cell_type": "code",
   "execution_count": 174,
   "outputs": [
    {
     "data": {
      "text/plain": "   id  cnt\n0   1    2\n1   2    2",
      "text/html": "<div>\n<style scoped>\n    .dataframe tbody tr th:only-of-type {\n        vertical-align: middle;\n    }\n\n    .dataframe tbody tr th {\n        vertical-align: top;\n    }\n\n    .dataframe thead th {\n        text-align: right;\n    }\n</style>\n<table border=\"1\" class=\"dataframe\">\n  <thead>\n    <tr style=\"text-align: right;\">\n      <th></th>\n      <th>id</th>\n      <th>cnt</th>\n    </tr>\n  </thead>\n  <tbody>\n    <tr>\n      <th>0</th>\n      <td>1</td>\n      <td>2</td>\n    </tr>\n    <tr>\n      <th>1</th>\n      <td>2</td>\n      <td>2</td>\n    </tr>\n  </tbody>\n</table>\n</div>"
     },
     "execution_count": 174,
     "metadata": {},
     "output_type": "execute_result"
    }
   ],
   "source": [
    "select(sql)"
   ],
   "metadata": {
    "collapsed": false
   }
  },
  {
   "cell_type": "code",
   "execution_count": 175,
   "outputs": [],
   "source": [
    "sql = '''select * from dupl_test t\n",
    "where t.id in (1,2)'''"
   ],
   "metadata": {
    "collapsed": false
   }
  },
  {
   "cell_type": "code",
   "execution_count": 176,
   "outputs": [
    {
     "data": {
      "text/plain": "   id name\n0   1    a\n1   1    b\n2   2    c\n3   2    d",
      "text/html": "<div>\n<style scoped>\n    .dataframe tbody tr th:only-of-type {\n        vertical-align: middle;\n    }\n\n    .dataframe tbody tr th {\n        vertical-align: top;\n    }\n\n    .dataframe thead th {\n        text-align: right;\n    }\n</style>\n<table border=\"1\" class=\"dataframe\">\n  <thead>\n    <tr style=\"text-align: right;\">\n      <th></th>\n      <th>id</th>\n      <th>name</th>\n    </tr>\n  </thead>\n  <tbody>\n    <tr>\n      <th>0</th>\n      <td>1</td>\n      <td>a</td>\n    </tr>\n    <tr>\n      <th>1</th>\n      <td>1</td>\n      <td>b</td>\n    </tr>\n    <tr>\n      <th>2</th>\n      <td>2</td>\n      <td>c</td>\n    </tr>\n    <tr>\n      <th>3</th>\n      <td>2</td>\n      <td>d</td>\n    </tr>\n  </tbody>\n</table>\n</div>"
     },
     "execution_count": 176,
     "metadata": {},
     "output_type": "execute_result"
    }
   ],
   "source": [
    "select(sql)"
   ],
   "metadata": {
    "collapsed": false
   }
  },
  {
   "cell_type": "code",
   "execution_count": 177,
   "outputs": [],
   "source": [
    "sql = '''select t.id as cnt from dupl_test t\n",
    "group by t.id\n",
    "having count(1) > 1\n",
    "'''"
   ],
   "metadata": {
    "collapsed": false
   }
  },
  {
   "cell_type": "code",
   "execution_count": 178,
   "outputs": [
    {
     "data": {
      "text/plain": "   cnt\n0    1\n1    2",
      "text/html": "<div>\n<style scoped>\n    .dataframe tbody tr th:only-of-type {\n        vertical-align: middle;\n    }\n\n    .dataframe tbody tr th {\n        vertical-align: top;\n    }\n\n    .dataframe thead th {\n        text-align: right;\n    }\n</style>\n<table border=\"1\" class=\"dataframe\">\n  <thead>\n    <tr style=\"text-align: right;\">\n      <th></th>\n      <th>cnt</th>\n    </tr>\n  </thead>\n  <tbody>\n    <tr>\n      <th>0</th>\n      <td>1</td>\n    </tr>\n    <tr>\n      <th>1</th>\n      <td>2</td>\n    </tr>\n  </tbody>\n</table>\n</div>"
     },
     "execution_count": 178,
     "metadata": {},
     "output_type": "execute_result"
    }
   ],
   "source": [
    "select(sql)"
   ],
   "metadata": {
    "collapsed": false
   }
  },
  {
   "cell_type": "code",
   "execution_count": 179,
   "outputs": [],
   "source": [
    "sql = '''select * from dupl_test t\n",
    "where t.id in (select t.id as cnt from dupl_test t\n",
    "group by t.id\n",
    "having count(1) > 1)'''"
   ],
   "metadata": {
    "collapsed": false
   }
  },
  {
   "cell_type": "code",
   "execution_count": 180,
   "outputs": [
    {
     "data": {
      "text/plain": "   id name\n0   1    a\n1   1    b\n2   2    c\n3   2    d",
      "text/html": "<div>\n<style scoped>\n    .dataframe tbody tr th:only-of-type {\n        vertical-align: middle;\n    }\n\n    .dataframe tbody tr th {\n        vertical-align: top;\n    }\n\n    .dataframe thead th {\n        text-align: right;\n    }\n</style>\n<table border=\"1\" class=\"dataframe\">\n  <thead>\n    <tr style=\"text-align: right;\">\n      <th></th>\n      <th>id</th>\n      <th>name</th>\n    </tr>\n  </thead>\n  <tbody>\n    <tr>\n      <th>0</th>\n      <td>1</td>\n      <td>a</td>\n    </tr>\n    <tr>\n      <th>1</th>\n      <td>1</td>\n      <td>b</td>\n    </tr>\n    <tr>\n      <th>2</th>\n      <td>2</td>\n      <td>c</td>\n    </tr>\n    <tr>\n      <th>3</th>\n      <td>2</td>\n      <td>d</td>\n    </tr>\n  </tbody>\n</table>\n</div>"
     },
     "execution_count": 180,
     "metadata": {},
     "output_type": "execute_result"
    }
   ],
   "source": [
    "select(sql)"
   ],
   "metadata": {
    "collapsed": false
   }
  },
  {
   "cell_type": "code",
   "execution_count": 181,
   "outputs": [
    {
     "data": {
      "text/plain": "'Агрегация'"
     },
     "execution_count": 181,
     "metadata": {},
     "output_type": "execute_result"
    }
   ],
   "source": [
    "'''Агрегация'''"
   ],
   "metadata": {
    "collapsed": false
   }
  },
  {
   "cell_type": "code",
   "execution_count": 182,
   "outputs": [],
   "source": [
    "sql = '''select date(t.contract_dt,'start of month') as month,\n",
    "count(1) as credit_cnt,\n",
    "count(distinct t.client_id) as client_id_unique,\n",
    "sum(t.credit_amount) as credit_amount_sum,\n",
    "avg(t.credit_amount) as credit_amount_avg\n",
    "\n",
    " from german_credit t\n",
    " group by date(t.contract_dt,'start of month')\n",
    " order by date(t.contract_dt,'start of month')\n",
    " '''"
   ],
   "metadata": {
    "collapsed": false
   }
  },
  {
   "cell_type": "code",
   "execution_count": 183,
   "outputs": [
    {
     "data": {
      "text/plain": "         month  credit_cnt  client_id_unique  credit_amount_sum  \\\n0   2007-05-01          81                81             207663   \n1   2007-06-01          74                74             239594   \n2   2007-07-01          71                71             224333   \n3   2007-08-01          57                57             178569   \n4   2007-09-01          58                58             186909   \n5   2007-10-01          70                70             188534   \n6   2007-11-01          87                87             300504   \n7   2007-12-01          77                77             273973   \n8   2008-01-01          93                93             288080   \n9   2008-02-01          55                55             211128   \n10  2008-03-01          63                63             204944   \n11  2008-04-01          85                85             305409   \n12  2008-05-01          67                67             263043   \n13  2008-06-01          62                62             198575   \n\n    credit_amount_avg  \n0         2563.740741  \n1         3237.756757  \n2         3159.619718  \n3         3132.789474  \n4         3222.568966  \n5         2693.342857  \n6         3454.068966  \n7         3558.090909  \n8         3097.634409  \n9         3838.690909  \n10        3253.079365  \n11        3593.047059  \n12        3926.014925  \n13        3202.822581  ",
      "text/html": "<div>\n<style scoped>\n    .dataframe tbody tr th:only-of-type {\n        vertical-align: middle;\n    }\n\n    .dataframe tbody tr th {\n        vertical-align: top;\n    }\n\n    .dataframe thead th {\n        text-align: right;\n    }\n</style>\n<table border=\"1\" class=\"dataframe\">\n  <thead>\n    <tr style=\"text-align: right;\">\n      <th></th>\n      <th>month</th>\n      <th>credit_cnt</th>\n      <th>client_id_unique</th>\n      <th>credit_amount_sum</th>\n      <th>credit_amount_avg</th>\n    </tr>\n  </thead>\n  <tbody>\n    <tr>\n      <th>0</th>\n      <td>2007-05-01</td>\n      <td>81</td>\n      <td>81</td>\n      <td>207663</td>\n      <td>2563.740741</td>\n    </tr>\n    <tr>\n      <th>1</th>\n      <td>2007-06-01</td>\n      <td>74</td>\n      <td>74</td>\n      <td>239594</td>\n      <td>3237.756757</td>\n    </tr>\n    <tr>\n      <th>2</th>\n      <td>2007-07-01</td>\n      <td>71</td>\n      <td>71</td>\n      <td>224333</td>\n      <td>3159.619718</td>\n    </tr>\n    <tr>\n      <th>3</th>\n      <td>2007-08-01</td>\n      <td>57</td>\n      <td>57</td>\n      <td>178569</td>\n      <td>3132.789474</td>\n    </tr>\n    <tr>\n      <th>4</th>\n      <td>2007-09-01</td>\n      <td>58</td>\n      <td>58</td>\n      <td>186909</td>\n      <td>3222.568966</td>\n    </tr>\n    <tr>\n      <th>5</th>\n      <td>2007-10-01</td>\n      <td>70</td>\n      <td>70</td>\n      <td>188534</td>\n      <td>2693.342857</td>\n    </tr>\n    <tr>\n      <th>6</th>\n      <td>2007-11-01</td>\n      <td>87</td>\n      <td>87</td>\n      <td>300504</td>\n      <td>3454.068966</td>\n    </tr>\n    <tr>\n      <th>7</th>\n      <td>2007-12-01</td>\n      <td>77</td>\n      <td>77</td>\n      <td>273973</td>\n      <td>3558.090909</td>\n    </tr>\n    <tr>\n      <th>8</th>\n      <td>2008-01-01</td>\n      <td>93</td>\n      <td>93</td>\n      <td>288080</td>\n      <td>3097.634409</td>\n    </tr>\n    <tr>\n      <th>9</th>\n      <td>2008-02-01</td>\n      <td>55</td>\n      <td>55</td>\n      <td>211128</td>\n      <td>3838.690909</td>\n    </tr>\n    <tr>\n      <th>10</th>\n      <td>2008-03-01</td>\n      <td>63</td>\n      <td>63</td>\n      <td>204944</td>\n      <td>3253.079365</td>\n    </tr>\n    <tr>\n      <th>11</th>\n      <td>2008-04-01</td>\n      <td>85</td>\n      <td>85</td>\n      <td>305409</td>\n      <td>3593.047059</td>\n    </tr>\n    <tr>\n      <th>12</th>\n      <td>2008-05-01</td>\n      <td>67</td>\n      <td>67</td>\n      <td>263043</td>\n      <td>3926.014925</td>\n    </tr>\n    <tr>\n      <th>13</th>\n      <td>2008-06-01</td>\n      <td>62</td>\n      <td>62</td>\n      <td>198575</td>\n      <td>3202.822581</td>\n    </tr>\n  </tbody>\n</table>\n</div>"
     },
     "execution_count": 183,
     "metadata": {},
     "output_type": "execute_result"
    }
   ],
   "source": [
    "select(sql)"
   ],
   "metadata": {
    "collapsed": false
   }
  },
  {
   "cell_type": "code",
   "execution_count": 184,
   "outputs": [
    {
     "data": {
      "text/plain": "'Интервалы (или бины или бакеты)'"
     },
     "execution_count": 184,
     "metadata": {},
     "output_type": "execute_result"
    }
   ],
   "source": [
    "\"Интервалы (или бины или бакеты)\""
   ],
   "metadata": {
    "collapsed": false
   }
  },
  {
   "cell_type": "code",
   "execution_count": 185,
   "outputs": [],
   "source": [
    "sql = '''select t.credit_amount,\n",
    "\n",
    "case when t.credit_amount < 1000 then '1. <1000'\n",
    "when t.credit_amount < 2000 then '2. 1000-2000'\n",
    "when t.credit_amount < 3000 then '3. 2000-3000'\n",
    "when t.credit_amount >= 3000 then '4. >= 3000'\n",
    "\n",
    "else 'other' end as credit_amount_bin\n",
    "\n",
    " from german_credit t'''"
   ],
   "metadata": {
    "collapsed": false
   }
  },
  {
   "cell_type": "code",
   "execution_count": 186,
   "outputs": [
    {
     "data": {
      "text/plain": "     credit_amount credit_amount_bin\n0             3074        4. >= 3000\n1             1344      2. 1000-2000\n2              936          1. <1000\n3             1393      2. 1000-2000\n4              776          1. <1000\n..             ...               ...\n995           2600      3. 2000-3000\n996           4455        4. >= 3000\n997           6403        4. >= 3000\n998           5003        4. >= 3000\n999           1804      2. 1000-2000\n\n[1000 rows x 2 columns]",
      "text/html": "<div>\n<style scoped>\n    .dataframe tbody tr th:only-of-type {\n        vertical-align: middle;\n    }\n\n    .dataframe tbody tr th {\n        vertical-align: top;\n    }\n\n    .dataframe thead th {\n        text-align: right;\n    }\n</style>\n<table border=\"1\" class=\"dataframe\">\n  <thead>\n    <tr style=\"text-align: right;\">\n      <th></th>\n      <th>credit_amount</th>\n      <th>credit_amount_bin</th>\n    </tr>\n  </thead>\n  <tbody>\n    <tr>\n      <th>0</th>\n      <td>3074</td>\n      <td>4. &gt;= 3000</td>\n    </tr>\n    <tr>\n      <th>1</th>\n      <td>1344</td>\n      <td>2. 1000-2000</td>\n    </tr>\n    <tr>\n      <th>2</th>\n      <td>936</td>\n      <td>1. &lt;1000</td>\n    </tr>\n    <tr>\n      <th>3</th>\n      <td>1393</td>\n      <td>2. 1000-2000</td>\n    </tr>\n    <tr>\n      <th>4</th>\n      <td>776</td>\n      <td>1. &lt;1000</td>\n    </tr>\n    <tr>\n      <th>...</th>\n      <td>...</td>\n      <td>...</td>\n    </tr>\n    <tr>\n      <th>995</th>\n      <td>2600</td>\n      <td>3. 2000-3000</td>\n    </tr>\n    <tr>\n      <th>996</th>\n      <td>4455</td>\n      <td>4. &gt;= 3000</td>\n    </tr>\n    <tr>\n      <th>997</th>\n      <td>6403</td>\n      <td>4. &gt;= 3000</td>\n    </tr>\n    <tr>\n      <th>998</th>\n      <td>5003</td>\n      <td>4. &gt;= 3000</td>\n    </tr>\n    <tr>\n      <th>999</th>\n      <td>1804</td>\n      <td>2. 1000-2000</td>\n    </tr>\n  </tbody>\n</table>\n<p>1000 rows × 2 columns</p>\n</div>"
     },
     "execution_count": 186,
     "metadata": {},
     "output_type": "execute_result"
    }
   ],
   "source": [
    "select(sql)"
   ],
   "metadata": {
    "collapsed": false
   }
  },
  {
   "cell_type": "code",
   "execution_count": 187,
   "outputs": [],
   "source": [
    "sql = '''select\n",
    "\n",
    "case\n",
    "when t.credit_amount < 1000 then '1. <1000'\n",
    "when t.credit_amount < 2000 then '2. 1000-2000'\n",
    "when t.credit_amount < 3000 then '3. 2000-3000'\n",
    "when t.credit_amount >= 3000 then '4. >= 3000'\n",
    "\n",
    "else 'other' end as credit_amount_bin,\n",
    "\n",
    "count(1) as credit_cnt\n",
    "\n",
    " from german_credit t\n",
    " group by 1\n",
    " '''"
   ],
   "metadata": {
    "collapsed": false
   }
  },
  {
   "cell_type": "code",
   "execution_count": 188,
   "outputs": [
    {
     "data": {
      "text/plain": "  credit_amount_bin  credit_cnt\n0          1. <1000         116\n1      2. 1000-2000         316\n2      3. 2000-3000         188\n3        4. >= 3000         380",
      "text/html": "<div>\n<style scoped>\n    .dataframe tbody tr th:only-of-type {\n        vertical-align: middle;\n    }\n\n    .dataframe tbody tr th {\n        vertical-align: top;\n    }\n\n    .dataframe thead th {\n        text-align: right;\n    }\n</style>\n<table border=\"1\" class=\"dataframe\">\n  <thead>\n    <tr style=\"text-align: right;\">\n      <th></th>\n      <th>credit_amount_bin</th>\n      <th>credit_cnt</th>\n    </tr>\n  </thead>\n  <tbody>\n    <tr>\n      <th>0</th>\n      <td>1. &lt;1000</td>\n      <td>116</td>\n    </tr>\n    <tr>\n      <th>1</th>\n      <td>2. 1000-2000</td>\n      <td>316</td>\n    </tr>\n    <tr>\n      <th>2</th>\n      <td>3. 2000-3000</td>\n      <td>188</td>\n    </tr>\n    <tr>\n      <th>3</th>\n      <td>4. &gt;= 3000</td>\n      <td>380</td>\n    </tr>\n  </tbody>\n</table>\n</div>"
     },
     "execution_count": 188,
     "metadata": {},
     "output_type": "execute_result"
    }
   ],
   "source": [
    "select(sql)"
   ],
   "metadata": {
    "collapsed": false
   }
  },
  {
   "cell_type": "code",
   "execution_count": 189,
   "outputs": [
    {
     "data": {
      "text/plain": "'Столбцы сводной таблицы'"
     },
     "execution_count": 189,
     "metadata": {},
     "output_type": "execute_result"
    }
   ],
   "source": [
    "\"Столбцы сводной таблицы\""
   ],
   "metadata": {
    "collapsed": false
   }
  },
  {
   "cell_type": "code",
   "execution_count": 190,
   "outputs": [],
   "source": [
    "sql = '''select t.housing,\n",
    "\n",
    "count(case when t.sex = 'female' then 1 else null end) as female,\n",
    "count(case when t.sex = 'male' then 1 else null end) as male,\n",
    "\n",
    "count(1) as cnt\n",
    "\n",
    "from german_credit t\n",
    "group  by t.housing'''"
   ],
   "metadata": {
    "collapsed": false
   }
  },
  {
   "cell_type": "code",
   "execution_count": 191,
   "outputs": [
    {
     "data": {
      "text/plain": "  housing  female  male  cnt\n0    free      19    89  108\n1     own     196   517  713\n2    rent      95    84  179",
      "text/html": "<div>\n<style scoped>\n    .dataframe tbody tr th:only-of-type {\n        vertical-align: middle;\n    }\n\n    .dataframe tbody tr th {\n        vertical-align: top;\n    }\n\n    .dataframe thead th {\n        text-align: right;\n    }\n</style>\n<table border=\"1\" class=\"dataframe\">\n  <thead>\n    <tr style=\"text-align: right;\">\n      <th></th>\n      <th>housing</th>\n      <th>female</th>\n      <th>male</th>\n      <th>cnt</th>\n    </tr>\n  </thead>\n  <tbody>\n    <tr>\n      <th>0</th>\n      <td>free</td>\n      <td>19</td>\n      <td>89</td>\n      <td>108</td>\n    </tr>\n    <tr>\n      <th>1</th>\n      <td>own</td>\n      <td>196</td>\n      <td>517</td>\n      <td>713</td>\n    </tr>\n    <tr>\n      <th>2</th>\n      <td>rent</td>\n      <td>95</td>\n      <td>84</td>\n      <td>179</td>\n    </tr>\n  </tbody>\n</table>\n</div>"
     },
     "execution_count": 191,
     "metadata": {},
     "output_type": "execute_result"
    }
   ],
   "source": [
    "select(sql)"
   ],
   "metadata": {
    "collapsed": false
   }
  },
  {
   "cell_type": "code",
   "execution_count": 192,
   "outputs": [],
   "source": [
    "sql = '''select distinct t.purpose from german_credit t'''"
   ],
   "metadata": {
    "collapsed": false
   }
  },
  {
   "cell_type": "code",
   "execution_count": 193,
   "outputs": [],
   "source": [
    "purpose = list(select(sql)['purpose'].values)"
   ],
   "metadata": {
    "collapsed": false
   }
  },
  {
   "cell_type": "code",
   "execution_count": 194,
   "outputs": [
    {
     "data": {
      "text/plain": "['radio/TV',\n 'car',\n 'education',\n 'furniture/equipment',\n 'repairs',\n 'business',\n 'domestic appliances',\n 'vacation/others']"
     },
     "execution_count": 194,
     "metadata": {},
     "output_type": "execute_result"
    }
   ],
   "source": [
    "purpose"
   ],
   "metadata": {
    "collapsed": false
   }
  },
  {
   "cell_type": "code",
   "execution_count": 195,
   "outputs": [
    {
     "name": "stdout",
     "output_type": "stream",
     "text": [
      "count(case when t.purpose = 'radio/TV' then 1 else null end) as radiotv,\n",
      "count(case when t.purpose = 'car' then 1 else null end) as car,\n",
      "count(case when t.purpose = 'education' then 1 else null end) as education,\n",
      "count(case when t.purpose = 'furniture/equipment' then 1 else null end) as furnitureequipment,\n",
      "count(case when t.purpose = 'repairs' then 1 else null end) as repairs,\n",
      "count(case when t.purpose = 'business' then 1 else null end) as business,\n",
      "count(case when t.purpose = 'domestic appliances' then 1 else null end) as domesticappliances,\n",
      "count(case when t.purpose = 'vacation/others' then 1 else null end) as vacationothers,\n"
     ]
    }
   ],
   "source": [
    "for p in purpose:\n",
    "  print(f\"count(case when t.purpose = '{p}' then 1 else null end) as {p.lower().replace(' ','').replace('/','')},\")"
   ],
   "metadata": {
    "collapsed": false
   }
  },
  {
   "cell_type": "code",
   "execution_count": 196,
   "outputs": [],
   "source": [
    "sql = '''select t.housing,\n",
    "\n",
    "count(case when t.purpose = 'radio/TV' then 1 else null end) as radiotv,\n",
    "count(case when t.purpose = 'car' then 1 else null end) as car,\n",
    "count(case when t.purpose = 'education' then 1 else null end) as education,\n",
    "count(case when t.purpose = 'furniture/equipment' then 1 else null end) as furnitureequipment,\n",
    "count(case when t.purpose = 'repairs' then 1 else null end) as repairs,\n",
    "count(case when t.purpose = 'business' then 1 else null end) as business,\n",
    "count(case when t.purpose = 'domestic appliances' then 1 else null end) as domesticappliances,\n",
    "count(case when t.purpose = 'vacation/others' then 1 else null end) as vacationothers,\n",
    "count(1) as cnt\n",
    "\n",
    "from german_credit t\n",
    "group  by t.housing'''"
   ],
   "metadata": {
    "collapsed": false
   }
  },
  {
   "cell_type": "code",
   "execution_count": 197,
   "outputs": [
    {
     "data": {
      "text/plain": "  housing  radiotv  car  education  furnitureequipment  repairs  business  \\\n0    free       15   55         15                  11        3         5   \n1     own      227  219         34                 122       17        76   \n2    rent       38   63         10                  48        2        16   \n\n   domesticappliances  vacationothers  cnt  \n0                   0               4  108  \n1                  10               8  713  \n2                   2               0  179  ",
      "text/html": "<div>\n<style scoped>\n    .dataframe tbody tr th:only-of-type {\n        vertical-align: middle;\n    }\n\n    .dataframe tbody tr th {\n        vertical-align: top;\n    }\n\n    .dataframe thead th {\n        text-align: right;\n    }\n</style>\n<table border=\"1\" class=\"dataframe\">\n  <thead>\n    <tr style=\"text-align: right;\">\n      <th></th>\n      <th>housing</th>\n      <th>radiotv</th>\n      <th>car</th>\n      <th>education</th>\n      <th>furnitureequipment</th>\n      <th>repairs</th>\n      <th>business</th>\n      <th>domesticappliances</th>\n      <th>vacationothers</th>\n      <th>cnt</th>\n    </tr>\n  </thead>\n  <tbody>\n    <tr>\n      <th>0</th>\n      <td>free</td>\n      <td>15</td>\n      <td>55</td>\n      <td>15</td>\n      <td>11</td>\n      <td>3</td>\n      <td>5</td>\n      <td>0</td>\n      <td>4</td>\n      <td>108</td>\n    </tr>\n    <tr>\n      <th>1</th>\n      <td>own</td>\n      <td>227</td>\n      <td>219</td>\n      <td>34</td>\n      <td>122</td>\n      <td>17</td>\n      <td>76</td>\n      <td>10</td>\n      <td>8</td>\n      <td>713</td>\n    </tr>\n    <tr>\n      <th>2</th>\n      <td>rent</td>\n      <td>38</td>\n      <td>63</td>\n      <td>10</td>\n      <td>48</td>\n      <td>2</td>\n      <td>16</td>\n      <td>2</td>\n      <td>0</td>\n      <td>179</td>\n    </tr>\n  </tbody>\n</table>\n</div>"
     },
     "execution_count": 197,
     "metadata": {},
     "output_type": "execute_result"
    }
   ],
   "source": [
    "select(sql)"
   ],
   "metadata": {
    "collapsed": false
   }
  },
  {
   "cell_type": "code",
   "execution_count": null,
   "outputs": [],
   "source": [],
   "metadata": {
    "collapsed": false
   }
  }
 ],
 "metadata": {
  "kernelspec": {
   "display_name": "Python 3",
   "language": "python",
   "name": "python3"
  },
  "language_info": {
   "codemirror_mode": {
    "name": "ipython",
    "version": 2
   },
   "file_extension": ".py",
   "mimetype": "text/x-python",
   "name": "python",
   "nbconvert_exporter": "python",
   "pygments_lexer": "ipython2",
   "version": "2.7.6"
  }
 },
 "nbformat": 4,
 "nbformat_minor": 0
}
