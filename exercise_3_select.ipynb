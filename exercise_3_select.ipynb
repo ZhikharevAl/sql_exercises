{
 "cells": [
  {
   "cell_type": "code",
   "execution_count": 1687,
   "metadata": {
    "collapsed": true
   },
   "outputs": [],
   "source": [
    "import sqlite3\n",
    "con = sqlite3.connect('db')"
   ]
  },
  {
   "cell_type": "code",
   "execution_count": 1688,
   "outputs": [],
   "source": [
    "import pandas as pd"
   ],
   "metadata": {
    "collapsed": false
   }
  },
  {
   "cell_type": "code",
   "execution_count": 1689,
   "outputs": [
    {
     "data": {
      "text/plain": "'3.39.4'"
     },
     "execution_count": 1689,
     "metadata": {},
     "output_type": "execute_result"
    }
   ],
   "source": [
    "sqlite3.sqlite_version"
   ],
   "metadata": {
    "collapsed": false
   }
  },
  {
   "cell_type": "code",
   "execution_count": 1690,
   "outputs": [
    {
     "data": {
      "text/plain": "   age     sex  job housing saving_accounts checking_account  credit_amount  \\\n0   33    male    2     own             NaN              NaN           3074   \n1   43    male    1     own          little           little           1344   \n2   52    male    2     own      quite rich              NaN            936   \n3   35  female    3     own          little              NaN           1393   \n4   28    male    2     own          little              NaN            776   \n\n   duration    purpose  default          contract_dt  client_id  \n0         9   radio/TV        0  2008-06-29 18:52:00        210  \n1        12        car        0  2007-05-20 18:30:19        929  \n2         9  education        0  2008-04-27 08:23:07        200  \n3        11        car        0  2007-05-06 10:58:22         45  \n4        12   radio/TV        0  2007-07-21 13:22:14        358  ",
      "text/html": "<div>\n<style scoped>\n    .dataframe tbody tr th:only-of-type {\n        vertical-align: middle;\n    }\n\n    .dataframe tbody tr th {\n        vertical-align: top;\n    }\n\n    .dataframe thead th {\n        text-align: right;\n    }\n</style>\n<table border=\"1\" class=\"dataframe\">\n  <thead>\n    <tr style=\"text-align: right;\">\n      <th></th>\n      <th>age</th>\n      <th>sex</th>\n      <th>job</th>\n      <th>housing</th>\n      <th>saving_accounts</th>\n      <th>checking_account</th>\n      <th>credit_amount</th>\n      <th>duration</th>\n      <th>purpose</th>\n      <th>default</th>\n      <th>contract_dt</th>\n      <th>client_id</th>\n    </tr>\n  </thead>\n  <tbody>\n    <tr>\n      <th>0</th>\n      <td>33</td>\n      <td>male</td>\n      <td>2</td>\n      <td>own</td>\n      <td>NaN</td>\n      <td>NaN</td>\n      <td>3074</td>\n      <td>9</td>\n      <td>radio/TV</td>\n      <td>0</td>\n      <td>2008-06-29 18:52:00</td>\n      <td>210</td>\n    </tr>\n    <tr>\n      <th>1</th>\n      <td>43</td>\n      <td>male</td>\n      <td>1</td>\n      <td>own</td>\n      <td>little</td>\n      <td>little</td>\n      <td>1344</td>\n      <td>12</td>\n      <td>car</td>\n      <td>0</td>\n      <td>2007-05-20 18:30:19</td>\n      <td>929</td>\n    </tr>\n    <tr>\n      <th>2</th>\n      <td>52</td>\n      <td>male</td>\n      <td>2</td>\n      <td>own</td>\n      <td>quite rich</td>\n      <td>NaN</td>\n      <td>936</td>\n      <td>9</td>\n      <td>education</td>\n      <td>0</td>\n      <td>2008-04-27 08:23:07</td>\n      <td>200</td>\n    </tr>\n    <tr>\n      <th>3</th>\n      <td>35</td>\n      <td>female</td>\n      <td>3</td>\n      <td>own</td>\n      <td>little</td>\n      <td>NaN</td>\n      <td>1393</td>\n      <td>11</td>\n      <td>car</td>\n      <td>0</td>\n      <td>2007-05-06 10:58:22</td>\n      <td>45</td>\n    </tr>\n    <tr>\n      <th>4</th>\n      <td>28</td>\n      <td>male</td>\n      <td>2</td>\n      <td>own</td>\n      <td>little</td>\n      <td>NaN</td>\n      <td>776</td>\n      <td>12</td>\n      <td>radio/TV</td>\n      <td>0</td>\n      <td>2007-07-21 13:22:14</td>\n      <td>358</td>\n    </tr>\n  </tbody>\n</table>\n</div>"
     },
     "execution_count": 1690,
     "metadata": {},
     "output_type": "execute_result"
    }
   ],
   "source": [
    "df = pd.read_csv('database/german_credit_augmented.csv')\n",
    "df.head()"
   ],
   "metadata": {
    "collapsed": false
   }
  },
  {
   "cell_type": "code",
   "execution_count": 1691,
   "outputs": [],
   "source": [
    "df['contract_dt'] = pd.to_datetime(df['contract_dt'], format='%Y-%m-%d %H:%M:%S')"
   ],
   "metadata": {
    "collapsed": false
   }
  },
  {
   "cell_type": "code",
   "execution_count": 1692,
   "outputs": [
    {
     "data": {
      "text/plain": "age                          int64\nsex                         object\njob                          int64\nhousing                     object\nsaving_accounts             object\nchecking_account            object\ncredit_amount                int64\nduration                     int64\npurpose                     object\ndefault                      int64\ncontract_dt         datetime64[ns]\nclient_id                    int64\ndtype: object"
     },
     "execution_count": 1692,
     "metadata": {},
     "output_type": "execute_result"
    }
   ],
   "source": [
    "df.dtypes"
   ],
   "metadata": {
    "collapsed": false
   }
  },
  {
   "cell_type": "code",
   "execution_count": 1693,
   "outputs": [
    {
     "data": {
      "text/plain": "1000"
     },
     "execution_count": 1693,
     "metadata": {},
     "output_type": "execute_result"
    }
   ],
   "source": [
    "df.to_sql('german_credit', con, index=False, if_exists='replace')"
   ],
   "metadata": {
    "collapsed": false
   }
  },
  {
   "cell_type": "code",
   "execution_count": 1694,
   "outputs": [],
   "source": [
    "def select(sql):\n",
    "    return pd.read_sql(sql, con)"
   ],
   "metadata": {
    "collapsed": false
   }
  },
  {
   "cell_type": "code",
   "execution_count": 1695,
   "outputs": [],
   "source": [
    "sql = '''select t.* from german_credit t limit 10'''"
   ],
   "metadata": {
    "collapsed": false
   }
  },
  {
   "cell_type": "code",
   "execution_count": 1696,
   "outputs": [
    {
     "data": {
      "text/plain": "   age     sex  job housing saving_accounts checking_account  credit_amount  \\\n0   33    male    2     own            None             None           3074   \n1   43    male    1     own          little           little           1344   \n2   52    male    2     own      quite rich             None            936   \n3   35  female    3     own          little             None           1393   \n4   28    male    2     own          little             None            776   \n5   27  female    2     own          little         moderate           1295   \n6   29  female    2     own          little         moderate            959   \n7   42  female    2    rent            rich             rich            409   \n8   26    male    2     own          little           little           4370   \n9   55    male    2    free            rich             None           1555   \n\n   duration              purpose  default          contract_dt  client_id  \n0         9             radio/TV        0  2008-06-29 18:52:00        210  \n1        12                  car        0  2007-05-20 18:30:19        929  \n2         9            education        0  2008-04-27 08:23:07        200  \n3        11                  car        0  2007-05-06 10:58:22         45  \n4        12             radio/TV        0  2007-07-21 13:22:14        358  \n5        18  furniture/equipment        0  2008-06-18 04:10:05         86  \n6         9  furniture/equipment        1  2007-05-21 14:32:00        351  \n7        12             radio/TV        0  2008-06-05 05:31:13         27  \n8        42             radio/TV        1  2007-11-29 00:20:44        639  \n9        12              repairs        1  2007-09-11 20:27:28        754  ",
      "text/html": "<div>\n<style scoped>\n    .dataframe tbody tr th:only-of-type {\n        vertical-align: middle;\n    }\n\n    .dataframe tbody tr th {\n        vertical-align: top;\n    }\n\n    .dataframe thead th {\n        text-align: right;\n    }\n</style>\n<table border=\"1\" class=\"dataframe\">\n  <thead>\n    <tr style=\"text-align: right;\">\n      <th></th>\n      <th>age</th>\n      <th>sex</th>\n      <th>job</th>\n      <th>housing</th>\n      <th>saving_accounts</th>\n      <th>checking_account</th>\n      <th>credit_amount</th>\n      <th>duration</th>\n      <th>purpose</th>\n      <th>default</th>\n      <th>contract_dt</th>\n      <th>client_id</th>\n    </tr>\n  </thead>\n  <tbody>\n    <tr>\n      <th>0</th>\n      <td>33</td>\n      <td>male</td>\n      <td>2</td>\n      <td>own</td>\n      <td>None</td>\n      <td>None</td>\n      <td>3074</td>\n      <td>9</td>\n      <td>radio/TV</td>\n      <td>0</td>\n      <td>2008-06-29 18:52:00</td>\n      <td>210</td>\n    </tr>\n    <tr>\n      <th>1</th>\n      <td>43</td>\n      <td>male</td>\n      <td>1</td>\n      <td>own</td>\n      <td>little</td>\n      <td>little</td>\n      <td>1344</td>\n      <td>12</td>\n      <td>car</td>\n      <td>0</td>\n      <td>2007-05-20 18:30:19</td>\n      <td>929</td>\n    </tr>\n    <tr>\n      <th>2</th>\n      <td>52</td>\n      <td>male</td>\n      <td>2</td>\n      <td>own</td>\n      <td>quite rich</td>\n      <td>None</td>\n      <td>936</td>\n      <td>9</td>\n      <td>education</td>\n      <td>0</td>\n      <td>2008-04-27 08:23:07</td>\n      <td>200</td>\n    </tr>\n    <tr>\n      <th>3</th>\n      <td>35</td>\n      <td>female</td>\n      <td>3</td>\n      <td>own</td>\n      <td>little</td>\n      <td>None</td>\n      <td>1393</td>\n      <td>11</td>\n      <td>car</td>\n      <td>0</td>\n      <td>2007-05-06 10:58:22</td>\n      <td>45</td>\n    </tr>\n    <tr>\n      <th>4</th>\n      <td>28</td>\n      <td>male</td>\n      <td>2</td>\n      <td>own</td>\n      <td>little</td>\n      <td>None</td>\n      <td>776</td>\n      <td>12</td>\n      <td>radio/TV</td>\n      <td>0</td>\n      <td>2007-07-21 13:22:14</td>\n      <td>358</td>\n    </tr>\n    <tr>\n      <th>5</th>\n      <td>27</td>\n      <td>female</td>\n      <td>2</td>\n      <td>own</td>\n      <td>little</td>\n      <td>moderate</td>\n      <td>1295</td>\n      <td>18</td>\n      <td>furniture/equipment</td>\n      <td>0</td>\n      <td>2008-06-18 04:10:05</td>\n      <td>86</td>\n    </tr>\n    <tr>\n      <th>6</th>\n      <td>29</td>\n      <td>female</td>\n      <td>2</td>\n      <td>own</td>\n      <td>little</td>\n      <td>moderate</td>\n      <td>959</td>\n      <td>9</td>\n      <td>furniture/equipment</td>\n      <td>1</td>\n      <td>2007-05-21 14:32:00</td>\n      <td>351</td>\n    </tr>\n    <tr>\n      <th>7</th>\n      <td>42</td>\n      <td>female</td>\n      <td>2</td>\n      <td>rent</td>\n      <td>rich</td>\n      <td>rich</td>\n      <td>409</td>\n      <td>12</td>\n      <td>radio/TV</td>\n      <td>0</td>\n      <td>2008-06-05 05:31:13</td>\n      <td>27</td>\n    </tr>\n    <tr>\n      <th>8</th>\n      <td>26</td>\n      <td>male</td>\n      <td>2</td>\n      <td>own</td>\n      <td>little</td>\n      <td>little</td>\n      <td>4370</td>\n      <td>42</td>\n      <td>radio/TV</td>\n      <td>1</td>\n      <td>2007-11-29 00:20:44</td>\n      <td>639</td>\n    </tr>\n    <tr>\n      <th>9</th>\n      <td>55</td>\n      <td>male</td>\n      <td>2</td>\n      <td>free</td>\n      <td>rich</td>\n      <td>None</td>\n      <td>1555</td>\n      <td>12</td>\n      <td>repairs</td>\n      <td>1</td>\n      <td>2007-09-11 20:27:28</td>\n      <td>754</td>\n    </tr>\n  </tbody>\n</table>\n</div>"
     },
     "execution_count": 1696,
     "metadata": {},
     "output_type": "execute_result"
    }
   ],
   "source": [
    "select(sql)"
   ],
   "metadata": {
    "collapsed": false
   }
  },
  {
   "cell_type": "code",
   "execution_count": 1697,
   "outputs": [],
   "source": [
    "sql = '''select t.age from german_credit t limit 10'''"
   ],
   "metadata": {
    "collapsed": false
   }
  },
  {
   "cell_type": "code",
   "execution_count": 1698,
   "outputs": [
    {
     "data": {
      "text/plain": "   age\n0   33\n1   43\n2   52\n3   35\n4   28\n5   27\n6   29\n7   42\n8   26\n9   55",
      "text/html": "<div>\n<style scoped>\n    .dataframe tbody tr th:only-of-type {\n        vertical-align: middle;\n    }\n\n    .dataframe tbody tr th {\n        vertical-align: top;\n    }\n\n    .dataframe thead th {\n        text-align: right;\n    }\n</style>\n<table border=\"1\" class=\"dataframe\">\n  <thead>\n    <tr style=\"text-align: right;\">\n      <th></th>\n      <th>age</th>\n    </tr>\n  </thead>\n  <tbody>\n    <tr>\n      <th>0</th>\n      <td>33</td>\n    </tr>\n    <tr>\n      <th>1</th>\n      <td>43</td>\n    </tr>\n    <tr>\n      <th>2</th>\n      <td>52</td>\n    </tr>\n    <tr>\n      <th>3</th>\n      <td>35</td>\n    </tr>\n    <tr>\n      <th>4</th>\n      <td>28</td>\n    </tr>\n    <tr>\n      <th>5</th>\n      <td>27</td>\n    </tr>\n    <tr>\n      <th>6</th>\n      <td>29</td>\n    </tr>\n    <tr>\n      <th>7</th>\n      <td>42</td>\n    </tr>\n    <tr>\n      <th>8</th>\n      <td>26</td>\n    </tr>\n    <tr>\n      <th>9</th>\n      <td>55</td>\n    </tr>\n  </tbody>\n</table>\n</div>"
     },
     "execution_count": 1698,
     "metadata": {},
     "output_type": "execute_result"
    }
   ],
   "source": [
    "select(sql)"
   ],
   "metadata": {
    "collapsed": false
   }
  },
  {
   "cell_type": "code",
   "execution_count": 1699,
   "outputs": [],
   "source": [
    "sql = '''select t.age, t.job from german_credit t limit 10'''"
   ],
   "metadata": {
    "collapsed": false
   }
  },
  {
   "cell_type": "code",
   "execution_count": 1700,
   "outputs": [
    {
     "data": {
      "text/plain": "   age  job\n0   33    2\n1   43    1\n2   52    2\n3   35    3\n4   28    2\n5   27    2\n6   29    2\n7   42    2\n8   26    2\n9   55    2",
      "text/html": "<div>\n<style scoped>\n    .dataframe tbody tr th:only-of-type {\n        vertical-align: middle;\n    }\n\n    .dataframe tbody tr th {\n        vertical-align: top;\n    }\n\n    .dataframe thead th {\n        text-align: right;\n    }\n</style>\n<table border=\"1\" class=\"dataframe\">\n  <thead>\n    <tr style=\"text-align: right;\">\n      <th></th>\n      <th>age</th>\n      <th>job</th>\n    </tr>\n  </thead>\n  <tbody>\n    <tr>\n      <th>0</th>\n      <td>33</td>\n      <td>2</td>\n    </tr>\n    <tr>\n      <th>1</th>\n      <td>43</td>\n      <td>1</td>\n    </tr>\n    <tr>\n      <th>2</th>\n      <td>52</td>\n      <td>2</td>\n    </tr>\n    <tr>\n      <th>3</th>\n      <td>35</td>\n      <td>3</td>\n    </tr>\n    <tr>\n      <th>4</th>\n      <td>28</td>\n      <td>2</td>\n    </tr>\n    <tr>\n      <th>5</th>\n      <td>27</td>\n      <td>2</td>\n    </tr>\n    <tr>\n      <th>6</th>\n      <td>29</td>\n      <td>2</td>\n    </tr>\n    <tr>\n      <th>7</th>\n      <td>42</td>\n      <td>2</td>\n    </tr>\n    <tr>\n      <th>8</th>\n      <td>26</td>\n      <td>2</td>\n    </tr>\n    <tr>\n      <th>9</th>\n      <td>55</td>\n      <td>2</td>\n    </tr>\n  </tbody>\n</table>\n</div>"
     },
     "execution_count": 1700,
     "metadata": {},
     "output_type": "execute_result"
    }
   ],
   "source": [
    "select(sql)"
   ],
   "metadata": {
    "collapsed": false
   }
  },
  {
   "cell_type": "code",
   "execution_count": 1701,
   "outputs": [],
   "source": [
    "sql = '''select t.age * 3 as age_mult3, t.job from german_credit t limit 10'''"
   ],
   "metadata": {
    "collapsed": false
   }
  },
  {
   "cell_type": "code",
   "execution_count": 1702,
   "outputs": [
    {
     "data": {
      "text/plain": "   age_mult3  job\n0         99    2\n1        129    1\n2        156    2\n3        105    3\n4         84    2\n5         81    2\n6         87    2\n7        126    2\n8         78    2\n9        165    2",
      "text/html": "<div>\n<style scoped>\n    .dataframe tbody tr th:only-of-type {\n        vertical-align: middle;\n    }\n\n    .dataframe tbody tr th {\n        vertical-align: top;\n    }\n\n    .dataframe thead th {\n        text-align: right;\n    }\n</style>\n<table border=\"1\" class=\"dataframe\">\n  <thead>\n    <tr style=\"text-align: right;\">\n      <th></th>\n      <th>age_mult3</th>\n      <th>job</th>\n    </tr>\n  </thead>\n  <tbody>\n    <tr>\n      <th>0</th>\n      <td>99</td>\n      <td>2</td>\n    </tr>\n    <tr>\n      <th>1</th>\n      <td>129</td>\n      <td>1</td>\n    </tr>\n    <tr>\n      <th>2</th>\n      <td>156</td>\n      <td>2</td>\n    </tr>\n    <tr>\n      <th>3</th>\n      <td>105</td>\n      <td>3</td>\n    </tr>\n    <tr>\n      <th>4</th>\n      <td>84</td>\n      <td>2</td>\n    </tr>\n    <tr>\n      <th>5</th>\n      <td>81</td>\n      <td>2</td>\n    </tr>\n    <tr>\n      <th>6</th>\n      <td>87</td>\n      <td>2</td>\n    </tr>\n    <tr>\n      <th>7</th>\n      <td>126</td>\n      <td>2</td>\n    </tr>\n    <tr>\n      <th>8</th>\n      <td>78</td>\n      <td>2</td>\n    </tr>\n    <tr>\n      <th>9</th>\n      <td>165</td>\n      <td>2</td>\n    </tr>\n  </tbody>\n</table>\n</div>"
     },
     "execution_count": 1702,
     "metadata": {},
     "output_type": "execute_result"
    }
   ],
   "source": [
    "select(sql)"
   ],
   "metadata": {
    "collapsed": false
   }
  },
  {
   "cell_type": "code",
   "execution_count": 1703,
   "outputs": [],
   "source": [
    "sql = '''SELECT t.age * 2 AS age_mult3,\n",
    "        t.job\n",
    "        FROM german_credit t\n",
    "        LIMIT 10'''"
   ],
   "metadata": {
    "collapsed": false
   }
  },
  {
   "cell_type": "code",
   "execution_count": 1704,
   "outputs": [
    {
     "data": {
      "text/plain": "   age_mult3  job\n0         66    2\n1         86    1\n2        104    2\n3         70    3\n4         56    2\n5         54    2\n6         58    2\n7         84    2\n8         52    2\n9        110    2",
      "text/html": "<div>\n<style scoped>\n    .dataframe tbody tr th:only-of-type {\n        vertical-align: middle;\n    }\n\n    .dataframe tbody tr th {\n        vertical-align: top;\n    }\n\n    .dataframe thead th {\n        text-align: right;\n    }\n</style>\n<table border=\"1\" class=\"dataframe\">\n  <thead>\n    <tr style=\"text-align: right;\">\n      <th></th>\n      <th>age_mult3</th>\n      <th>job</th>\n    </tr>\n  </thead>\n  <tbody>\n    <tr>\n      <th>0</th>\n      <td>66</td>\n      <td>2</td>\n    </tr>\n    <tr>\n      <th>1</th>\n      <td>86</td>\n      <td>1</td>\n    </tr>\n    <tr>\n      <th>2</th>\n      <td>104</td>\n      <td>2</td>\n    </tr>\n    <tr>\n      <th>3</th>\n      <td>70</td>\n      <td>3</td>\n    </tr>\n    <tr>\n      <th>4</th>\n      <td>56</td>\n      <td>2</td>\n    </tr>\n    <tr>\n      <th>5</th>\n      <td>54</td>\n      <td>2</td>\n    </tr>\n    <tr>\n      <th>6</th>\n      <td>58</td>\n      <td>2</td>\n    </tr>\n    <tr>\n      <th>7</th>\n      <td>84</td>\n      <td>2</td>\n    </tr>\n    <tr>\n      <th>8</th>\n      <td>52</td>\n      <td>2</td>\n    </tr>\n    <tr>\n      <th>9</th>\n      <td>110</td>\n      <td>2</td>\n    </tr>\n  </tbody>\n</table>\n</div>"
     },
     "execution_count": 1704,
     "metadata": {},
     "output_type": "execute_result"
    }
   ],
   "source": [
    "select(sql)"
   ],
   "metadata": {
    "collapsed": false
   }
  },
  {
   "cell_type": "code",
   "execution_count": 1705,
   "outputs": [],
   "source": [
    "sql = '''select t.* from german_credit t\n",
    "where contract_dt between '2007-01-01' and '2007-12-31' '''"
   ],
   "metadata": {
    "collapsed": false
   }
  },
  {
   "cell_type": "code",
   "execution_count": 1706,
   "outputs": [
    {
     "data": {
      "text/plain": "     age     sex  job housing saving_accounts checking_account  credit_amount  \\\n0     43    male    1     own          little           little           1344   \n1     35  female    3     own          little             None           1393   \n2     28    male    2     own          little             None            776   \n3     29  female    2     own          little         moderate            959   \n4     26    male    2     own          little           little           4370   \n..   ...     ...  ...     ...             ...              ...            ...   \n568   45    male    1     own      quite rich             None           1750   \n569   65    male    2    free          little           little           2600   \n570   30    male    3     own          little         moderate           4455   \n571   29  female    2     own            None             None           5003   \n572   44    male    2     own        moderate         moderate           1804   \n\n     duration              purpose  default          contract_dt  client_id  \n0          12                  car        0  2007-05-20 18:30:19        929  \n1          11                  car        0  2007-05-06 10:58:22         45  \n2          12             radio/TV        0  2007-07-21 13:22:14        358  \n3           9  furniture/equipment        1  2007-05-21 14:32:00        351  \n4          42             radio/TV        1  2007-11-29 00:20:44        639  \n..        ...                  ...      ...                  ...        ...  \n568         6             radio/TV        0  2007-05-25 13:59:51        551  \n569        18             radio/TV        1  2007-12-16 20:17:19        624  \n570        36             business        1  2007-07-12 14:08:58        181  \n571        21                  car        1  2007-11-29 15:51:45        557  \n572        12                  car        0  2007-08-14 09:05:33         23  \n\n[573 rows x 12 columns]",
      "text/html": "<div>\n<style scoped>\n    .dataframe tbody tr th:only-of-type {\n        vertical-align: middle;\n    }\n\n    .dataframe tbody tr th {\n        vertical-align: top;\n    }\n\n    .dataframe thead th {\n        text-align: right;\n    }\n</style>\n<table border=\"1\" class=\"dataframe\">\n  <thead>\n    <tr style=\"text-align: right;\">\n      <th></th>\n      <th>age</th>\n      <th>sex</th>\n      <th>job</th>\n      <th>housing</th>\n      <th>saving_accounts</th>\n      <th>checking_account</th>\n      <th>credit_amount</th>\n      <th>duration</th>\n      <th>purpose</th>\n      <th>default</th>\n      <th>contract_dt</th>\n      <th>client_id</th>\n    </tr>\n  </thead>\n  <tbody>\n    <tr>\n      <th>0</th>\n      <td>43</td>\n      <td>male</td>\n      <td>1</td>\n      <td>own</td>\n      <td>little</td>\n      <td>little</td>\n      <td>1344</td>\n      <td>12</td>\n      <td>car</td>\n      <td>0</td>\n      <td>2007-05-20 18:30:19</td>\n      <td>929</td>\n    </tr>\n    <tr>\n      <th>1</th>\n      <td>35</td>\n      <td>female</td>\n      <td>3</td>\n      <td>own</td>\n      <td>little</td>\n      <td>None</td>\n      <td>1393</td>\n      <td>11</td>\n      <td>car</td>\n      <td>0</td>\n      <td>2007-05-06 10:58:22</td>\n      <td>45</td>\n    </tr>\n    <tr>\n      <th>2</th>\n      <td>28</td>\n      <td>male</td>\n      <td>2</td>\n      <td>own</td>\n      <td>little</td>\n      <td>None</td>\n      <td>776</td>\n      <td>12</td>\n      <td>radio/TV</td>\n      <td>0</td>\n      <td>2007-07-21 13:22:14</td>\n      <td>358</td>\n    </tr>\n    <tr>\n      <th>3</th>\n      <td>29</td>\n      <td>female</td>\n      <td>2</td>\n      <td>own</td>\n      <td>little</td>\n      <td>moderate</td>\n      <td>959</td>\n      <td>9</td>\n      <td>furniture/equipment</td>\n      <td>1</td>\n      <td>2007-05-21 14:32:00</td>\n      <td>351</td>\n    </tr>\n    <tr>\n      <th>4</th>\n      <td>26</td>\n      <td>male</td>\n      <td>2</td>\n      <td>own</td>\n      <td>little</td>\n      <td>little</td>\n      <td>4370</td>\n      <td>42</td>\n      <td>radio/TV</td>\n      <td>1</td>\n      <td>2007-11-29 00:20:44</td>\n      <td>639</td>\n    </tr>\n    <tr>\n      <th>...</th>\n      <td>...</td>\n      <td>...</td>\n      <td>...</td>\n      <td>...</td>\n      <td>...</td>\n      <td>...</td>\n      <td>...</td>\n      <td>...</td>\n      <td>...</td>\n      <td>...</td>\n      <td>...</td>\n      <td>...</td>\n    </tr>\n    <tr>\n      <th>568</th>\n      <td>45</td>\n      <td>male</td>\n      <td>1</td>\n      <td>own</td>\n      <td>quite rich</td>\n      <td>None</td>\n      <td>1750</td>\n      <td>6</td>\n      <td>radio/TV</td>\n      <td>0</td>\n      <td>2007-05-25 13:59:51</td>\n      <td>551</td>\n    </tr>\n    <tr>\n      <th>569</th>\n      <td>65</td>\n      <td>male</td>\n      <td>2</td>\n      <td>free</td>\n      <td>little</td>\n      <td>little</td>\n      <td>2600</td>\n      <td>18</td>\n      <td>radio/TV</td>\n      <td>1</td>\n      <td>2007-12-16 20:17:19</td>\n      <td>624</td>\n    </tr>\n    <tr>\n      <th>570</th>\n      <td>30</td>\n      <td>male</td>\n      <td>3</td>\n      <td>own</td>\n      <td>little</td>\n      <td>moderate</td>\n      <td>4455</td>\n      <td>36</td>\n      <td>business</td>\n      <td>1</td>\n      <td>2007-07-12 14:08:58</td>\n      <td>181</td>\n    </tr>\n    <tr>\n      <th>571</th>\n      <td>29</td>\n      <td>female</td>\n      <td>2</td>\n      <td>own</td>\n      <td>None</td>\n      <td>None</td>\n      <td>5003</td>\n      <td>21</td>\n      <td>car</td>\n      <td>1</td>\n      <td>2007-11-29 15:51:45</td>\n      <td>557</td>\n    </tr>\n    <tr>\n      <th>572</th>\n      <td>44</td>\n      <td>male</td>\n      <td>2</td>\n      <td>own</td>\n      <td>moderate</td>\n      <td>moderate</td>\n      <td>1804</td>\n      <td>12</td>\n      <td>car</td>\n      <td>0</td>\n      <td>2007-08-14 09:05:33</td>\n      <td>23</td>\n    </tr>\n  </tbody>\n</table>\n<p>573 rows × 12 columns</p>\n</div>"
     },
     "execution_count": 1706,
     "metadata": {},
     "output_type": "execute_result"
    }
   ],
   "source": [
    "select(sql)"
   ],
   "metadata": {
    "collapsed": false
   }
  },
  {
   "cell_type": "code",
   "execution_count": 1707,
   "outputs": [],
   "source": [
    "sql = '''select count(*) from german_credit t\n",
    "where contract_dt between '2007-01-01' and '2007-12-31' '''"
   ],
   "metadata": {
    "collapsed": false
   }
  },
  {
   "cell_type": "code",
   "execution_count": 1708,
   "outputs": [
    {
     "data": {
      "text/plain": "   count(*)\n0       573",
      "text/html": "<div>\n<style scoped>\n    .dataframe tbody tr th:only-of-type {\n        vertical-align: middle;\n    }\n\n    .dataframe tbody tr th {\n        vertical-align: top;\n    }\n\n    .dataframe thead th {\n        text-align: right;\n    }\n</style>\n<table border=\"1\" class=\"dataframe\">\n  <thead>\n    <tr style=\"text-align: right;\">\n      <th></th>\n      <th>count(*)</th>\n    </tr>\n  </thead>\n  <tbody>\n    <tr>\n      <th>0</th>\n      <td>573</td>\n    </tr>\n  </tbody>\n</table>\n</div>"
     },
     "execution_count": 1708,
     "metadata": {},
     "output_type": "execute_result"
    }
   ],
   "source": [
    "select(sql)"
   ],
   "metadata": {
    "collapsed": false
   }
  },
  {
   "cell_type": "code",
   "execution_count": 1709,
   "outputs": [],
   "source": [
    "sql = '''select t.* from german_credit t\n",
    "where contract_dt between '2007-01-01' and '2007-12-31'\n",
    "order by contract_dt'''"
   ],
   "metadata": {
    "collapsed": false
   }
  },
  {
   "cell_type": "code",
   "execution_count": 1710,
   "outputs": [
    {
     "data": {
      "text/plain": "     age     sex  job housing saving_accounts checking_account  credit_amount  \\\n0     20    male    2     own            None           little           2996   \n1     49  female    2     own          little         moderate           1092   \n2     30  female    3     own          little         moderate           4795   \n3     39  female    1     own            None         moderate            932   \n4     31    male    2     own          little             None           2775   \n..   ...     ...  ...     ...             ...              ...            ...   \n568   30    male    2     own          little         moderate            639   \n569   36    male    3    rent            None         moderate           7057   \n570   23  female    2    rent          little           little           2406   \n571   35    male    1     own          little             None           2684   \n572   31  female    1     own          little             None           1736   \n\n     duration              purpose  default          contract_dt  client_id  \n0          24  furniture/equipment        1  2007-05-01 07:17:29        495  \n1          12             radio/TV        0  2007-05-01 08:41:46        288  \n2          36             radio/TV        0  2007-05-01 12:42:45        141  \n3           6            education        0  2007-05-01 20:28:44        215  \n4          18                  car        1  2007-05-01 23:14:02        598  \n..        ...                  ...      ...                  ...        ...  \n568        12              repairs        1  2007-12-28 17:09:43        127  \n569        20                  car        0  2007-12-29 16:10:08         99  \n570        30  furniture/equipment        1  2007-12-29 20:14:30        359  \n571        24             radio/TV        0  2007-12-30 00:40:33        256  \n572        12  furniture/equipment        0  2007-12-30 13:29:15        995  \n\n[573 rows x 12 columns]",
      "text/html": "<div>\n<style scoped>\n    .dataframe tbody tr th:only-of-type {\n        vertical-align: middle;\n    }\n\n    .dataframe tbody tr th {\n        vertical-align: top;\n    }\n\n    .dataframe thead th {\n        text-align: right;\n    }\n</style>\n<table border=\"1\" class=\"dataframe\">\n  <thead>\n    <tr style=\"text-align: right;\">\n      <th></th>\n      <th>age</th>\n      <th>sex</th>\n      <th>job</th>\n      <th>housing</th>\n      <th>saving_accounts</th>\n      <th>checking_account</th>\n      <th>credit_amount</th>\n      <th>duration</th>\n      <th>purpose</th>\n      <th>default</th>\n      <th>contract_dt</th>\n      <th>client_id</th>\n    </tr>\n  </thead>\n  <tbody>\n    <tr>\n      <th>0</th>\n      <td>20</td>\n      <td>male</td>\n      <td>2</td>\n      <td>own</td>\n      <td>None</td>\n      <td>little</td>\n      <td>2996</td>\n      <td>24</td>\n      <td>furniture/equipment</td>\n      <td>1</td>\n      <td>2007-05-01 07:17:29</td>\n      <td>495</td>\n    </tr>\n    <tr>\n      <th>1</th>\n      <td>49</td>\n      <td>female</td>\n      <td>2</td>\n      <td>own</td>\n      <td>little</td>\n      <td>moderate</td>\n      <td>1092</td>\n      <td>12</td>\n      <td>radio/TV</td>\n      <td>0</td>\n      <td>2007-05-01 08:41:46</td>\n      <td>288</td>\n    </tr>\n    <tr>\n      <th>2</th>\n      <td>30</td>\n      <td>female</td>\n      <td>3</td>\n      <td>own</td>\n      <td>little</td>\n      <td>moderate</td>\n      <td>4795</td>\n      <td>36</td>\n      <td>radio/TV</td>\n      <td>0</td>\n      <td>2007-05-01 12:42:45</td>\n      <td>141</td>\n    </tr>\n    <tr>\n      <th>3</th>\n      <td>39</td>\n      <td>female</td>\n      <td>1</td>\n      <td>own</td>\n      <td>None</td>\n      <td>moderate</td>\n      <td>932</td>\n      <td>6</td>\n      <td>education</td>\n      <td>0</td>\n      <td>2007-05-01 20:28:44</td>\n      <td>215</td>\n    </tr>\n    <tr>\n      <th>4</th>\n      <td>31</td>\n      <td>male</td>\n      <td>2</td>\n      <td>own</td>\n      <td>little</td>\n      <td>None</td>\n      <td>2775</td>\n      <td>18</td>\n      <td>car</td>\n      <td>1</td>\n      <td>2007-05-01 23:14:02</td>\n      <td>598</td>\n    </tr>\n    <tr>\n      <th>...</th>\n      <td>...</td>\n      <td>...</td>\n      <td>...</td>\n      <td>...</td>\n      <td>...</td>\n      <td>...</td>\n      <td>...</td>\n      <td>...</td>\n      <td>...</td>\n      <td>...</td>\n      <td>...</td>\n      <td>...</td>\n    </tr>\n    <tr>\n      <th>568</th>\n      <td>30</td>\n      <td>male</td>\n      <td>2</td>\n      <td>own</td>\n      <td>little</td>\n      <td>moderate</td>\n      <td>639</td>\n      <td>12</td>\n      <td>repairs</td>\n      <td>1</td>\n      <td>2007-12-28 17:09:43</td>\n      <td>127</td>\n    </tr>\n    <tr>\n      <th>569</th>\n      <td>36</td>\n      <td>male</td>\n      <td>3</td>\n      <td>rent</td>\n      <td>None</td>\n      <td>moderate</td>\n      <td>7057</td>\n      <td>20</td>\n      <td>car</td>\n      <td>0</td>\n      <td>2007-12-29 16:10:08</td>\n      <td>99</td>\n    </tr>\n    <tr>\n      <th>570</th>\n      <td>23</td>\n      <td>female</td>\n      <td>2</td>\n      <td>rent</td>\n      <td>little</td>\n      <td>little</td>\n      <td>2406</td>\n      <td>30</td>\n      <td>furniture/equipment</td>\n      <td>1</td>\n      <td>2007-12-29 20:14:30</td>\n      <td>359</td>\n    </tr>\n    <tr>\n      <th>571</th>\n      <td>35</td>\n      <td>male</td>\n      <td>1</td>\n      <td>own</td>\n      <td>little</td>\n      <td>None</td>\n      <td>2684</td>\n      <td>24</td>\n      <td>radio/TV</td>\n      <td>0</td>\n      <td>2007-12-30 00:40:33</td>\n      <td>256</td>\n    </tr>\n    <tr>\n      <th>572</th>\n      <td>31</td>\n      <td>female</td>\n      <td>1</td>\n      <td>own</td>\n      <td>little</td>\n      <td>None</td>\n      <td>1736</td>\n      <td>12</td>\n      <td>furniture/equipment</td>\n      <td>0</td>\n      <td>2007-12-30 13:29:15</td>\n      <td>995</td>\n    </tr>\n  </tbody>\n</table>\n<p>573 rows × 12 columns</p>\n</div>"
     },
     "execution_count": 1710,
     "metadata": {},
     "output_type": "execute_result"
    }
   ],
   "source": [
    "select(sql)"
   ],
   "metadata": {
    "collapsed": false
   }
  },
  {
   "cell_type": "code",
   "execution_count": 1711,
   "outputs": [],
   "source": [
    "sql = '''select t.* from german_credit t\n",
    "where contract_dt between '2007-01-01' and '2007-12-31'\n",
    "order by contract_dt desc '''"
   ],
   "metadata": {
    "collapsed": false
   }
  },
  {
   "cell_type": "code",
   "execution_count": 1712,
   "outputs": [
    {
     "data": {
      "text/plain": "     age     sex  job housing saving_accounts checking_account  credit_amount  \\\n0     31  female    1     own          little             None           1736   \n1     35    male    1     own          little             None           2684   \n2     23  female    2    rent          little           little           2406   \n3     36    male    3    rent            None         moderate           7057   \n4     30    male    2     own          little         moderate            639   \n..   ...     ...  ...     ...             ...              ...            ...   \n568   31    male    2     own          little             None           2775   \n569   39  female    1     own            None         moderate            932   \n570   30  female    3     own          little         moderate           4795   \n571   49  female    2     own          little         moderate           1092   \n572   20    male    2     own            None           little           2996   \n\n     duration              purpose  default          contract_dt  client_id  \n0          12  furniture/equipment        0  2007-12-30 13:29:15        995  \n1          24             radio/TV        0  2007-12-30 00:40:33        256  \n2          30  furniture/equipment        1  2007-12-29 20:14:30        359  \n3          20                  car        0  2007-12-29 16:10:08         99  \n4          12              repairs        1  2007-12-28 17:09:43        127  \n..        ...                  ...      ...                  ...        ...  \n568        18                  car        1  2007-05-01 23:14:02        598  \n569         6            education        0  2007-05-01 20:28:44        215  \n570        36             radio/TV        0  2007-05-01 12:42:45        141  \n571        12             radio/TV        0  2007-05-01 08:41:46        288  \n572        24  furniture/equipment        1  2007-05-01 07:17:29        495  \n\n[573 rows x 12 columns]",
      "text/html": "<div>\n<style scoped>\n    .dataframe tbody tr th:only-of-type {\n        vertical-align: middle;\n    }\n\n    .dataframe tbody tr th {\n        vertical-align: top;\n    }\n\n    .dataframe thead th {\n        text-align: right;\n    }\n</style>\n<table border=\"1\" class=\"dataframe\">\n  <thead>\n    <tr style=\"text-align: right;\">\n      <th></th>\n      <th>age</th>\n      <th>sex</th>\n      <th>job</th>\n      <th>housing</th>\n      <th>saving_accounts</th>\n      <th>checking_account</th>\n      <th>credit_amount</th>\n      <th>duration</th>\n      <th>purpose</th>\n      <th>default</th>\n      <th>contract_dt</th>\n      <th>client_id</th>\n    </tr>\n  </thead>\n  <tbody>\n    <tr>\n      <th>0</th>\n      <td>31</td>\n      <td>female</td>\n      <td>1</td>\n      <td>own</td>\n      <td>little</td>\n      <td>None</td>\n      <td>1736</td>\n      <td>12</td>\n      <td>furniture/equipment</td>\n      <td>0</td>\n      <td>2007-12-30 13:29:15</td>\n      <td>995</td>\n    </tr>\n    <tr>\n      <th>1</th>\n      <td>35</td>\n      <td>male</td>\n      <td>1</td>\n      <td>own</td>\n      <td>little</td>\n      <td>None</td>\n      <td>2684</td>\n      <td>24</td>\n      <td>radio/TV</td>\n      <td>0</td>\n      <td>2007-12-30 00:40:33</td>\n      <td>256</td>\n    </tr>\n    <tr>\n      <th>2</th>\n      <td>23</td>\n      <td>female</td>\n      <td>2</td>\n      <td>rent</td>\n      <td>little</td>\n      <td>little</td>\n      <td>2406</td>\n      <td>30</td>\n      <td>furniture/equipment</td>\n      <td>1</td>\n      <td>2007-12-29 20:14:30</td>\n      <td>359</td>\n    </tr>\n    <tr>\n      <th>3</th>\n      <td>36</td>\n      <td>male</td>\n      <td>3</td>\n      <td>rent</td>\n      <td>None</td>\n      <td>moderate</td>\n      <td>7057</td>\n      <td>20</td>\n      <td>car</td>\n      <td>0</td>\n      <td>2007-12-29 16:10:08</td>\n      <td>99</td>\n    </tr>\n    <tr>\n      <th>4</th>\n      <td>30</td>\n      <td>male</td>\n      <td>2</td>\n      <td>own</td>\n      <td>little</td>\n      <td>moderate</td>\n      <td>639</td>\n      <td>12</td>\n      <td>repairs</td>\n      <td>1</td>\n      <td>2007-12-28 17:09:43</td>\n      <td>127</td>\n    </tr>\n    <tr>\n      <th>...</th>\n      <td>...</td>\n      <td>...</td>\n      <td>...</td>\n      <td>...</td>\n      <td>...</td>\n      <td>...</td>\n      <td>...</td>\n      <td>...</td>\n      <td>...</td>\n      <td>...</td>\n      <td>...</td>\n      <td>...</td>\n    </tr>\n    <tr>\n      <th>568</th>\n      <td>31</td>\n      <td>male</td>\n      <td>2</td>\n      <td>own</td>\n      <td>little</td>\n      <td>None</td>\n      <td>2775</td>\n      <td>18</td>\n      <td>car</td>\n      <td>1</td>\n      <td>2007-05-01 23:14:02</td>\n      <td>598</td>\n    </tr>\n    <tr>\n      <th>569</th>\n      <td>39</td>\n      <td>female</td>\n      <td>1</td>\n      <td>own</td>\n      <td>None</td>\n      <td>moderate</td>\n      <td>932</td>\n      <td>6</td>\n      <td>education</td>\n      <td>0</td>\n      <td>2007-05-01 20:28:44</td>\n      <td>215</td>\n    </tr>\n    <tr>\n      <th>570</th>\n      <td>30</td>\n      <td>female</td>\n      <td>3</td>\n      <td>own</td>\n      <td>little</td>\n      <td>moderate</td>\n      <td>4795</td>\n      <td>36</td>\n      <td>radio/TV</td>\n      <td>0</td>\n      <td>2007-05-01 12:42:45</td>\n      <td>141</td>\n    </tr>\n    <tr>\n      <th>571</th>\n      <td>49</td>\n      <td>female</td>\n      <td>2</td>\n      <td>own</td>\n      <td>little</td>\n      <td>moderate</td>\n      <td>1092</td>\n      <td>12</td>\n      <td>radio/TV</td>\n      <td>0</td>\n      <td>2007-05-01 08:41:46</td>\n      <td>288</td>\n    </tr>\n    <tr>\n      <th>572</th>\n      <td>20</td>\n      <td>male</td>\n      <td>2</td>\n      <td>own</td>\n      <td>None</td>\n      <td>little</td>\n      <td>2996</td>\n      <td>24</td>\n      <td>furniture/equipment</td>\n      <td>1</td>\n      <td>2007-05-01 07:17:29</td>\n      <td>495</td>\n    </tr>\n  </tbody>\n</table>\n<p>573 rows × 12 columns</p>\n</div>"
     },
     "execution_count": 1712,
     "metadata": {},
     "output_type": "execute_result"
    }
   ],
   "source": [
    "select(sql)"
   ],
   "metadata": {
    "collapsed": false
   }
  },
  {
   "cell_type": "code",
   "execution_count": 1713,
   "outputs": [],
   "source": [
    "sql = '''select t.* from german_credit t\n",
    "where contract_dt between '2007-01-01' and '2007-12-31'\n",
    "and t.purpose = 'car'\n",
    "order by contract_dt'''"
   ],
   "metadata": {
    "collapsed": false
   }
  },
  {
   "cell_type": "code",
   "execution_count": 1714,
   "outputs": [
    {
     "data": {
      "text/plain": "     age   sex  job housing saving_accounts checking_account  credit_amount  \\\n0     31  male    2     own          little             None           2775   \n1     36  male    2     own          little         moderate            884   \n2     47  male    3     own          little         moderate           1209   \n3     55  male    2     own            rich             None           1413   \n4     75  male    3    free          little           little           6615   \n..   ...   ...  ...     ...             ...              ...            ...   \n177   37  male    2    free            None         moderate          12389   \n178   43  male    2    rent          little           little           4843   \n179   48  male    2     own          little             None           2134   \n180   25  male    2    rent        moderate         moderate           1264   \n181   36  male    3    rent            None         moderate           7057   \n\n     duration purpose  default          contract_dt  client_id  \n0          18     car        1  2007-05-01 23:14:02        598  \n1          18     car        1  2007-05-02 06:22:11        184  \n2           6     car        1  2007-05-03 10:29:01        485  \n3          12     car        0  2007-05-05 06:35:11        209  \n4          24     car        0  2007-05-06 09:37:45        330  \n..        ...     ...      ...                  ...        ...  \n177        36     car        1  2007-12-21 00:06:27        563  \n178        12     car        1  2007-12-22 16:17:29        668  \n179         9     car        0  2007-12-24 16:28:30         20  \n180        15     car        1  2007-12-28 08:38:58        979  \n181        20     car        0  2007-12-29 16:10:08         99  \n\n[182 rows x 12 columns]",
      "text/html": "<div>\n<style scoped>\n    .dataframe tbody tr th:only-of-type {\n        vertical-align: middle;\n    }\n\n    .dataframe tbody tr th {\n        vertical-align: top;\n    }\n\n    .dataframe thead th {\n        text-align: right;\n    }\n</style>\n<table border=\"1\" class=\"dataframe\">\n  <thead>\n    <tr style=\"text-align: right;\">\n      <th></th>\n      <th>age</th>\n      <th>sex</th>\n      <th>job</th>\n      <th>housing</th>\n      <th>saving_accounts</th>\n      <th>checking_account</th>\n      <th>credit_amount</th>\n      <th>duration</th>\n      <th>purpose</th>\n      <th>default</th>\n      <th>contract_dt</th>\n      <th>client_id</th>\n    </tr>\n  </thead>\n  <tbody>\n    <tr>\n      <th>0</th>\n      <td>31</td>\n      <td>male</td>\n      <td>2</td>\n      <td>own</td>\n      <td>little</td>\n      <td>None</td>\n      <td>2775</td>\n      <td>18</td>\n      <td>car</td>\n      <td>1</td>\n      <td>2007-05-01 23:14:02</td>\n      <td>598</td>\n    </tr>\n    <tr>\n      <th>1</th>\n      <td>36</td>\n      <td>male</td>\n      <td>2</td>\n      <td>own</td>\n      <td>little</td>\n      <td>moderate</td>\n      <td>884</td>\n      <td>18</td>\n      <td>car</td>\n      <td>1</td>\n      <td>2007-05-02 06:22:11</td>\n      <td>184</td>\n    </tr>\n    <tr>\n      <th>2</th>\n      <td>47</td>\n      <td>male</td>\n      <td>3</td>\n      <td>own</td>\n      <td>little</td>\n      <td>moderate</td>\n      <td>1209</td>\n      <td>6</td>\n      <td>car</td>\n      <td>1</td>\n      <td>2007-05-03 10:29:01</td>\n      <td>485</td>\n    </tr>\n    <tr>\n      <th>3</th>\n      <td>55</td>\n      <td>male</td>\n      <td>2</td>\n      <td>own</td>\n      <td>rich</td>\n      <td>None</td>\n      <td>1413</td>\n      <td>12</td>\n      <td>car</td>\n      <td>0</td>\n      <td>2007-05-05 06:35:11</td>\n      <td>209</td>\n    </tr>\n    <tr>\n      <th>4</th>\n      <td>75</td>\n      <td>male</td>\n      <td>3</td>\n      <td>free</td>\n      <td>little</td>\n      <td>little</td>\n      <td>6615</td>\n      <td>24</td>\n      <td>car</td>\n      <td>0</td>\n      <td>2007-05-06 09:37:45</td>\n      <td>330</td>\n    </tr>\n    <tr>\n      <th>...</th>\n      <td>...</td>\n      <td>...</td>\n      <td>...</td>\n      <td>...</td>\n      <td>...</td>\n      <td>...</td>\n      <td>...</td>\n      <td>...</td>\n      <td>...</td>\n      <td>...</td>\n      <td>...</td>\n      <td>...</td>\n    </tr>\n    <tr>\n      <th>177</th>\n      <td>37</td>\n      <td>male</td>\n      <td>2</td>\n      <td>free</td>\n      <td>None</td>\n      <td>moderate</td>\n      <td>12389</td>\n      <td>36</td>\n      <td>car</td>\n      <td>1</td>\n      <td>2007-12-21 00:06:27</td>\n      <td>563</td>\n    </tr>\n    <tr>\n      <th>178</th>\n      <td>43</td>\n      <td>male</td>\n      <td>2</td>\n      <td>rent</td>\n      <td>little</td>\n      <td>little</td>\n      <td>4843</td>\n      <td>12</td>\n      <td>car</td>\n      <td>1</td>\n      <td>2007-12-22 16:17:29</td>\n      <td>668</td>\n    </tr>\n    <tr>\n      <th>179</th>\n      <td>48</td>\n      <td>male</td>\n      <td>2</td>\n      <td>own</td>\n      <td>little</td>\n      <td>None</td>\n      <td>2134</td>\n      <td>9</td>\n      <td>car</td>\n      <td>0</td>\n      <td>2007-12-24 16:28:30</td>\n      <td>20</td>\n    </tr>\n    <tr>\n      <th>180</th>\n      <td>25</td>\n      <td>male</td>\n      <td>2</td>\n      <td>rent</td>\n      <td>moderate</td>\n      <td>moderate</td>\n      <td>1264</td>\n      <td>15</td>\n      <td>car</td>\n      <td>1</td>\n      <td>2007-12-28 08:38:58</td>\n      <td>979</td>\n    </tr>\n    <tr>\n      <th>181</th>\n      <td>36</td>\n      <td>male</td>\n      <td>3</td>\n      <td>rent</td>\n      <td>None</td>\n      <td>moderate</td>\n      <td>7057</td>\n      <td>20</td>\n      <td>car</td>\n      <td>0</td>\n      <td>2007-12-29 16:10:08</td>\n      <td>99</td>\n    </tr>\n  </tbody>\n</table>\n<p>182 rows × 12 columns</p>\n</div>"
     },
     "execution_count": 1714,
     "metadata": {},
     "output_type": "execute_result"
    }
   ],
   "source": [
    "select(sql)"
   ],
   "metadata": {
    "collapsed": false
   }
  },
  {
   "cell_type": "code",
   "execution_count": 1715,
   "outputs": [],
   "source": [
    "sql = '''select t.* from german_credit t\n",
    "where contract_dt between '2007-01-01' and '2007-12-31'\n",
    "and t.purpose in ('car', 'repairs')\n",
    "order by contract_dt'''"
   ],
   "metadata": {
    "collapsed": false
   }
  },
  {
   "cell_type": "code",
   "execution_count": 1716,
   "outputs": [
    {
     "data": {
      "text/plain": "     age     sex  job housing saving_accounts checking_account  credit_amount  \\\n0     31    male    2     own          little             None           2775   \n1     36    male    2     own          little         moderate            884   \n2     47    male    3     own          little         moderate           1209   \n3     55  female    0    free          little           little           1190   \n4     55    male    2     own            rich             None           1413   \n..   ...     ...  ...     ...             ...              ...            ...   \n192   67  female    2     own          little         moderate           3872   \n193   48    male    2     own          little             None           2134   \n194   25    male    2    rent        moderate         moderate           1264   \n195   30    male    2     own          little         moderate            639   \n196   36    male    3    rent            None         moderate           7057   \n\n     duration  purpose  default          contract_dt  client_id  \n0          18      car        1  2007-05-01 23:14:02        598  \n1          18      car        1  2007-05-02 06:22:11        184  \n2           6      car        1  2007-05-03 10:29:01        485  \n3          18  repairs        1  2007-05-05 00:14:17        429  \n4          12      car        0  2007-05-05 06:35:11        209  \n..        ...      ...      ...                  ...        ...  \n192        18  repairs        0  2007-12-24 12:25:28        779  \n193         9      car        0  2007-12-24 16:28:30         20  \n194        15      car        1  2007-12-28 08:38:58        979  \n195        12  repairs        1  2007-12-28 17:09:43        127  \n196        20      car        0  2007-12-29 16:10:08         99  \n\n[197 rows x 12 columns]",
      "text/html": "<div>\n<style scoped>\n    .dataframe tbody tr th:only-of-type {\n        vertical-align: middle;\n    }\n\n    .dataframe tbody tr th {\n        vertical-align: top;\n    }\n\n    .dataframe thead th {\n        text-align: right;\n    }\n</style>\n<table border=\"1\" class=\"dataframe\">\n  <thead>\n    <tr style=\"text-align: right;\">\n      <th></th>\n      <th>age</th>\n      <th>sex</th>\n      <th>job</th>\n      <th>housing</th>\n      <th>saving_accounts</th>\n      <th>checking_account</th>\n      <th>credit_amount</th>\n      <th>duration</th>\n      <th>purpose</th>\n      <th>default</th>\n      <th>contract_dt</th>\n      <th>client_id</th>\n    </tr>\n  </thead>\n  <tbody>\n    <tr>\n      <th>0</th>\n      <td>31</td>\n      <td>male</td>\n      <td>2</td>\n      <td>own</td>\n      <td>little</td>\n      <td>None</td>\n      <td>2775</td>\n      <td>18</td>\n      <td>car</td>\n      <td>1</td>\n      <td>2007-05-01 23:14:02</td>\n      <td>598</td>\n    </tr>\n    <tr>\n      <th>1</th>\n      <td>36</td>\n      <td>male</td>\n      <td>2</td>\n      <td>own</td>\n      <td>little</td>\n      <td>moderate</td>\n      <td>884</td>\n      <td>18</td>\n      <td>car</td>\n      <td>1</td>\n      <td>2007-05-02 06:22:11</td>\n      <td>184</td>\n    </tr>\n    <tr>\n      <th>2</th>\n      <td>47</td>\n      <td>male</td>\n      <td>3</td>\n      <td>own</td>\n      <td>little</td>\n      <td>moderate</td>\n      <td>1209</td>\n      <td>6</td>\n      <td>car</td>\n      <td>1</td>\n      <td>2007-05-03 10:29:01</td>\n      <td>485</td>\n    </tr>\n    <tr>\n      <th>3</th>\n      <td>55</td>\n      <td>female</td>\n      <td>0</td>\n      <td>free</td>\n      <td>little</td>\n      <td>little</td>\n      <td>1190</td>\n      <td>18</td>\n      <td>repairs</td>\n      <td>1</td>\n      <td>2007-05-05 00:14:17</td>\n      <td>429</td>\n    </tr>\n    <tr>\n      <th>4</th>\n      <td>55</td>\n      <td>male</td>\n      <td>2</td>\n      <td>own</td>\n      <td>rich</td>\n      <td>None</td>\n      <td>1413</td>\n      <td>12</td>\n      <td>car</td>\n      <td>0</td>\n      <td>2007-05-05 06:35:11</td>\n      <td>209</td>\n    </tr>\n    <tr>\n      <th>...</th>\n      <td>...</td>\n      <td>...</td>\n      <td>...</td>\n      <td>...</td>\n      <td>...</td>\n      <td>...</td>\n      <td>...</td>\n      <td>...</td>\n      <td>...</td>\n      <td>...</td>\n      <td>...</td>\n      <td>...</td>\n    </tr>\n    <tr>\n      <th>192</th>\n      <td>67</td>\n      <td>female</td>\n      <td>2</td>\n      <td>own</td>\n      <td>little</td>\n      <td>moderate</td>\n      <td>3872</td>\n      <td>18</td>\n      <td>repairs</td>\n      <td>0</td>\n      <td>2007-12-24 12:25:28</td>\n      <td>779</td>\n    </tr>\n    <tr>\n      <th>193</th>\n      <td>48</td>\n      <td>male</td>\n      <td>2</td>\n      <td>own</td>\n      <td>little</td>\n      <td>None</td>\n      <td>2134</td>\n      <td>9</td>\n      <td>car</td>\n      <td>0</td>\n      <td>2007-12-24 16:28:30</td>\n      <td>20</td>\n    </tr>\n    <tr>\n      <th>194</th>\n      <td>25</td>\n      <td>male</td>\n      <td>2</td>\n      <td>rent</td>\n      <td>moderate</td>\n      <td>moderate</td>\n      <td>1264</td>\n      <td>15</td>\n      <td>car</td>\n      <td>1</td>\n      <td>2007-12-28 08:38:58</td>\n      <td>979</td>\n    </tr>\n    <tr>\n      <th>195</th>\n      <td>30</td>\n      <td>male</td>\n      <td>2</td>\n      <td>own</td>\n      <td>little</td>\n      <td>moderate</td>\n      <td>639</td>\n      <td>12</td>\n      <td>repairs</td>\n      <td>1</td>\n      <td>2007-12-28 17:09:43</td>\n      <td>127</td>\n    </tr>\n    <tr>\n      <th>196</th>\n      <td>36</td>\n      <td>male</td>\n      <td>3</td>\n      <td>rent</td>\n      <td>None</td>\n      <td>moderate</td>\n      <td>7057</td>\n      <td>20</td>\n      <td>car</td>\n      <td>0</td>\n      <td>2007-12-29 16:10:08</td>\n      <td>99</td>\n    </tr>\n  </tbody>\n</table>\n<p>197 rows × 12 columns</p>\n</div>"
     },
     "execution_count": 1716,
     "metadata": {},
     "output_type": "execute_result"
    }
   ],
   "source": [
    "select(sql)"
   ],
   "metadata": {
    "collapsed": false
   }
  },
  {
   "cell_type": "code",
   "execution_count": 1717,
   "outputs": [],
   "source": [
    "sql = '''select t.* from german_credit t\n",
    "where contract_dt between '2007-01-01' and '2008-01-01'\n",
    "and (t.purpose = 'car' or t.purpose = 'repairs')\n",
    "order by contract_dt'''"
   ],
   "metadata": {
    "collapsed": false
   }
  },
  {
   "cell_type": "code",
   "execution_count": 1718,
   "outputs": [
    {
     "data": {
      "text/plain": "     age     sex  job housing saving_accounts checking_account  credit_amount  \\\n0     31    male    2     own          little             None           2775   \n1     36    male    2     own          little         moderate            884   \n2     47    male    3     own          little         moderate           1209   \n3     55  female    0    free          little           little           1190   \n4     55    male    2     own            rich             None           1413   \n..   ...     ...  ...     ...             ...              ...            ...   \n192   67  female    2     own          little         moderate           3872   \n193   48    male    2     own          little             None           2134   \n194   25    male    2    rent        moderate         moderate           1264   \n195   30    male    2     own          little         moderate            639   \n196   36    male    3    rent            None         moderate           7057   \n\n     duration  purpose  default          contract_dt  client_id  \n0          18      car        1  2007-05-01 23:14:02        598  \n1          18      car        1  2007-05-02 06:22:11        184  \n2           6      car        1  2007-05-03 10:29:01        485  \n3          18  repairs        1  2007-05-05 00:14:17        429  \n4          12      car        0  2007-05-05 06:35:11        209  \n..        ...      ...      ...                  ...        ...  \n192        18  repairs        0  2007-12-24 12:25:28        779  \n193         9      car        0  2007-12-24 16:28:30         20  \n194        15      car        1  2007-12-28 08:38:58        979  \n195        12  repairs        1  2007-12-28 17:09:43        127  \n196        20      car        0  2007-12-29 16:10:08         99  \n\n[197 rows x 12 columns]",
      "text/html": "<div>\n<style scoped>\n    .dataframe tbody tr th:only-of-type {\n        vertical-align: middle;\n    }\n\n    .dataframe tbody tr th {\n        vertical-align: top;\n    }\n\n    .dataframe thead th {\n        text-align: right;\n    }\n</style>\n<table border=\"1\" class=\"dataframe\">\n  <thead>\n    <tr style=\"text-align: right;\">\n      <th></th>\n      <th>age</th>\n      <th>sex</th>\n      <th>job</th>\n      <th>housing</th>\n      <th>saving_accounts</th>\n      <th>checking_account</th>\n      <th>credit_amount</th>\n      <th>duration</th>\n      <th>purpose</th>\n      <th>default</th>\n      <th>contract_dt</th>\n      <th>client_id</th>\n    </tr>\n  </thead>\n  <tbody>\n    <tr>\n      <th>0</th>\n      <td>31</td>\n      <td>male</td>\n      <td>2</td>\n      <td>own</td>\n      <td>little</td>\n      <td>None</td>\n      <td>2775</td>\n      <td>18</td>\n      <td>car</td>\n      <td>1</td>\n      <td>2007-05-01 23:14:02</td>\n      <td>598</td>\n    </tr>\n    <tr>\n      <th>1</th>\n      <td>36</td>\n      <td>male</td>\n      <td>2</td>\n      <td>own</td>\n      <td>little</td>\n      <td>moderate</td>\n      <td>884</td>\n      <td>18</td>\n      <td>car</td>\n      <td>1</td>\n      <td>2007-05-02 06:22:11</td>\n      <td>184</td>\n    </tr>\n    <tr>\n      <th>2</th>\n      <td>47</td>\n      <td>male</td>\n      <td>3</td>\n      <td>own</td>\n      <td>little</td>\n      <td>moderate</td>\n      <td>1209</td>\n      <td>6</td>\n      <td>car</td>\n      <td>1</td>\n      <td>2007-05-03 10:29:01</td>\n      <td>485</td>\n    </tr>\n    <tr>\n      <th>3</th>\n      <td>55</td>\n      <td>female</td>\n      <td>0</td>\n      <td>free</td>\n      <td>little</td>\n      <td>little</td>\n      <td>1190</td>\n      <td>18</td>\n      <td>repairs</td>\n      <td>1</td>\n      <td>2007-05-05 00:14:17</td>\n      <td>429</td>\n    </tr>\n    <tr>\n      <th>4</th>\n      <td>55</td>\n      <td>male</td>\n      <td>2</td>\n      <td>own</td>\n      <td>rich</td>\n      <td>None</td>\n      <td>1413</td>\n      <td>12</td>\n      <td>car</td>\n      <td>0</td>\n      <td>2007-05-05 06:35:11</td>\n      <td>209</td>\n    </tr>\n    <tr>\n      <th>...</th>\n      <td>...</td>\n      <td>...</td>\n      <td>...</td>\n      <td>...</td>\n      <td>...</td>\n      <td>...</td>\n      <td>...</td>\n      <td>...</td>\n      <td>...</td>\n      <td>...</td>\n      <td>...</td>\n      <td>...</td>\n    </tr>\n    <tr>\n      <th>192</th>\n      <td>67</td>\n      <td>female</td>\n      <td>2</td>\n      <td>own</td>\n      <td>little</td>\n      <td>moderate</td>\n      <td>3872</td>\n      <td>18</td>\n      <td>repairs</td>\n      <td>0</td>\n      <td>2007-12-24 12:25:28</td>\n      <td>779</td>\n    </tr>\n    <tr>\n      <th>193</th>\n      <td>48</td>\n      <td>male</td>\n      <td>2</td>\n      <td>own</td>\n      <td>little</td>\n      <td>None</td>\n      <td>2134</td>\n      <td>9</td>\n      <td>car</td>\n      <td>0</td>\n      <td>2007-12-24 16:28:30</td>\n      <td>20</td>\n    </tr>\n    <tr>\n      <th>194</th>\n      <td>25</td>\n      <td>male</td>\n      <td>2</td>\n      <td>rent</td>\n      <td>moderate</td>\n      <td>moderate</td>\n      <td>1264</td>\n      <td>15</td>\n      <td>car</td>\n      <td>1</td>\n      <td>2007-12-28 08:38:58</td>\n      <td>979</td>\n    </tr>\n    <tr>\n      <th>195</th>\n      <td>30</td>\n      <td>male</td>\n      <td>2</td>\n      <td>own</td>\n      <td>little</td>\n      <td>moderate</td>\n      <td>639</td>\n      <td>12</td>\n      <td>repairs</td>\n      <td>1</td>\n      <td>2007-12-28 17:09:43</td>\n      <td>127</td>\n    </tr>\n    <tr>\n      <th>196</th>\n      <td>36</td>\n      <td>male</td>\n      <td>3</td>\n      <td>rent</td>\n      <td>None</td>\n      <td>moderate</td>\n      <td>7057</td>\n      <td>20</td>\n      <td>car</td>\n      <td>0</td>\n      <td>2007-12-29 16:10:08</td>\n      <td>99</td>\n    </tr>\n  </tbody>\n</table>\n<p>197 rows × 12 columns</p>\n</div>"
     },
     "execution_count": 1718,
     "metadata": {},
     "output_type": "execute_result"
    }
   ],
   "source": [
    "select(sql)"
   ],
   "metadata": {
    "collapsed": false
   }
  },
  {
   "cell_type": "code",
   "execution_count": 1719,
   "outputs": [],
   "source": [
    "sql = '''select t.* from german_credit t\n",
    "where t.sex like '%male'\n",
    "'''"
   ],
   "metadata": {
    "collapsed": false
   }
  },
  {
   "cell_type": "code",
   "execution_count": 1720,
   "outputs": [
    {
     "data": {
      "text/plain": "     age     sex  job housing saving_accounts checking_account  credit_amount  \\\n0     33    male    2     own            None             None           3074   \n1     43    male    1     own          little           little           1344   \n2     52    male    2     own      quite rich             None            936   \n3     35  female    3     own          little             None           1393   \n4     28    male    2     own          little             None            776   \n..   ...     ...  ...     ...             ...              ...            ...   \n995   65    male    2    free          little           little           2600   \n996   30    male    3     own          little         moderate           4455   \n997   33    male    2     own          little         moderate           6403   \n998   29  female    2     own            None             None           5003   \n999   44    male    2     own        moderate         moderate           1804   \n\n     duration    purpose  default          contract_dt  client_id  \n0           9   radio/TV        0  2008-06-29 18:52:00        210  \n1          12        car        0  2007-05-20 18:30:19        929  \n2           9  education        0  2008-04-27 08:23:07        200  \n3          11        car        0  2007-05-06 10:58:22         45  \n4          12   radio/TV        0  2007-07-21 13:22:14        358  \n..        ...        ...      ...                  ...        ...  \n995        18   radio/TV        1  2007-12-16 20:17:19        624  \n996        36   business        1  2007-07-12 14:08:58        181  \n997        24   radio/TV        0  2008-04-08 03:24:26        730  \n998        21        car        1  2007-11-29 15:51:45        557  \n999        12        car        0  2007-08-14 09:05:33         23  \n\n[1000 rows x 12 columns]",
      "text/html": "<div>\n<style scoped>\n    .dataframe tbody tr th:only-of-type {\n        vertical-align: middle;\n    }\n\n    .dataframe tbody tr th {\n        vertical-align: top;\n    }\n\n    .dataframe thead th {\n        text-align: right;\n    }\n</style>\n<table border=\"1\" class=\"dataframe\">\n  <thead>\n    <tr style=\"text-align: right;\">\n      <th></th>\n      <th>age</th>\n      <th>sex</th>\n      <th>job</th>\n      <th>housing</th>\n      <th>saving_accounts</th>\n      <th>checking_account</th>\n      <th>credit_amount</th>\n      <th>duration</th>\n      <th>purpose</th>\n      <th>default</th>\n      <th>contract_dt</th>\n      <th>client_id</th>\n    </tr>\n  </thead>\n  <tbody>\n    <tr>\n      <th>0</th>\n      <td>33</td>\n      <td>male</td>\n      <td>2</td>\n      <td>own</td>\n      <td>None</td>\n      <td>None</td>\n      <td>3074</td>\n      <td>9</td>\n      <td>radio/TV</td>\n      <td>0</td>\n      <td>2008-06-29 18:52:00</td>\n      <td>210</td>\n    </tr>\n    <tr>\n      <th>1</th>\n      <td>43</td>\n      <td>male</td>\n      <td>1</td>\n      <td>own</td>\n      <td>little</td>\n      <td>little</td>\n      <td>1344</td>\n      <td>12</td>\n      <td>car</td>\n      <td>0</td>\n      <td>2007-05-20 18:30:19</td>\n      <td>929</td>\n    </tr>\n    <tr>\n      <th>2</th>\n      <td>52</td>\n      <td>male</td>\n      <td>2</td>\n      <td>own</td>\n      <td>quite rich</td>\n      <td>None</td>\n      <td>936</td>\n      <td>9</td>\n      <td>education</td>\n      <td>0</td>\n      <td>2008-04-27 08:23:07</td>\n      <td>200</td>\n    </tr>\n    <tr>\n      <th>3</th>\n      <td>35</td>\n      <td>female</td>\n      <td>3</td>\n      <td>own</td>\n      <td>little</td>\n      <td>None</td>\n      <td>1393</td>\n      <td>11</td>\n      <td>car</td>\n      <td>0</td>\n      <td>2007-05-06 10:58:22</td>\n      <td>45</td>\n    </tr>\n    <tr>\n      <th>4</th>\n      <td>28</td>\n      <td>male</td>\n      <td>2</td>\n      <td>own</td>\n      <td>little</td>\n      <td>None</td>\n      <td>776</td>\n      <td>12</td>\n      <td>radio/TV</td>\n      <td>0</td>\n      <td>2007-07-21 13:22:14</td>\n      <td>358</td>\n    </tr>\n    <tr>\n      <th>...</th>\n      <td>...</td>\n      <td>...</td>\n      <td>...</td>\n      <td>...</td>\n      <td>...</td>\n      <td>...</td>\n      <td>...</td>\n      <td>...</td>\n      <td>...</td>\n      <td>...</td>\n      <td>...</td>\n      <td>...</td>\n    </tr>\n    <tr>\n      <th>995</th>\n      <td>65</td>\n      <td>male</td>\n      <td>2</td>\n      <td>free</td>\n      <td>little</td>\n      <td>little</td>\n      <td>2600</td>\n      <td>18</td>\n      <td>radio/TV</td>\n      <td>1</td>\n      <td>2007-12-16 20:17:19</td>\n      <td>624</td>\n    </tr>\n    <tr>\n      <th>996</th>\n      <td>30</td>\n      <td>male</td>\n      <td>3</td>\n      <td>own</td>\n      <td>little</td>\n      <td>moderate</td>\n      <td>4455</td>\n      <td>36</td>\n      <td>business</td>\n      <td>1</td>\n      <td>2007-07-12 14:08:58</td>\n      <td>181</td>\n    </tr>\n    <tr>\n      <th>997</th>\n      <td>33</td>\n      <td>male</td>\n      <td>2</td>\n      <td>own</td>\n      <td>little</td>\n      <td>moderate</td>\n      <td>6403</td>\n      <td>24</td>\n      <td>radio/TV</td>\n      <td>0</td>\n      <td>2008-04-08 03:24:26</td>\n      <td>730</td>\n    </tr>\n    <tr>\n      <th>998</th>\n      <td>29</td>\n      <td>female</td>\n      <td>2</td>\n      <td>own</td>\n      <td>None</td>\n      <td>None</td>\n      <td>5003</td>\n      <td>21</td>\n      <td>car</td>\n      <td>1</td>\n      <td>2007-11-29 15:51:45</td>\n      <td>557</td>\n    </tr>\n    <tr>\n      <th>999</th>\n      <td>44</td>\n      <td>male</td>\n      <td>2</td>\n      <td>own</td>\n      <td>moderate</td>\n      <td>moderate</td>\n      <td>1804</td>\n      <td>12</td>\n      <td>car</td>\n      <td>0</td>\n      <td>2007-08-14 09:05:33</td>\n      <td>23</td>\n    </tr>\n  </tbody>\n</table>\n<p>1000 rows × 12 columns</p>\n</div>"
     },
     "execution_count": 1720,
     "metadata": {},
     "output_type": "execute_result"
    }
   ],
   "source": [
    "select(sql)"
   ],
   "metadata": {
    "collapsed": false
   }
  },
  {
   "cell_type": "code",
   "execution_count": 1721,
   "outputs": [],
   "source": [
    "sql = '''select t.* from german_credit t\n",
    "where (t.sex like '%male') and t.credit_amount > 1000\n",
    "'''"
   ],
   "metadata": {
    "collapsed": false
   }
  },
  {
   "cell_type": "code",
   "execution_count": 1722,
   "outputs": [
    {
     "data": {
      "text/plain": "     age     sex  job housing saving_accounts checking_account  credit_amount  \\\n0     33    male    2     own            None             None           3074   \n1     43    male    1     own          little           little           1344   \n2     35  female    3     own          little             None           1393   \n3     27  female    2     own          little         moderate           1295   \n4     26    male    2     own          little           little           4370   \n..   ...     ...  ...     ...             ...              ...            ...   \n879   65    male    2    free          little           little           2600   \n880   30    male    3     own          little         moderate           4455   \n881   33    male    2     own          little         moderate           6403   \n882   29  female    2     own            None             None           5003   \n883   44    male    2     own        moderate         moderate           1804   \n\n     duration              purpose  default          contract_dt  client_id  \n0           9             radio/TV        0  2008-06-29 18:52:00        210  \n1          12                  car        0  2007-05-20 18:30:19        929  \n2          11                  car        0  2007-05-06 10:58:22         45  \n3          18  furniture/equipment        0  2008-06-18 04:10:05         86  \n4          42             radio/TV        1  2007-11-29 00:20:44        639  \n..        ...                  ...      ...                  ...        ...  \n879        18             radio/TV        1  2007-12-16 20:17:19        624  \n880        36             business        1  2007-07-12 14:08:58        181  \n881        24             radio/TV        0  2008-04-08 03:24:26        730  \n882        21                  car        1  2007-11-29 15:51:45        557  \n883        12                  car        0  2007-08-14 09:05:33         23  \n\n[884 rows x 12 columns]",
      "text/html": "<div>\n<style scoped>\n    .dataframe tbody tr th:only-of-type {\n        vertical-align: middle;\n    }\n\n    .dataframe tbody tr th {\n        vertical-align: top;\n    }\n\n    .dataframe thead th {\n        text-align: right;\n    }\n</style>\n<table border=\"1\" class=\"dataframe\">\n  <thead>\n    <tr style=\"text-align: right;\">\n      <th></th>\n      <th>age</th>\n      <th>sex</th>\n      <th>job</th>\n      <th>housing</th>\n      <th>saving_accounts</th>\n      <th>checking_account</th>\n      <th>credit_amount</th>\n      <th>duration</th>\n      <th>purpose</th>\n      <th>default</th>\n      <th>contract_dt</th>\n      <th>client_id</th>\n    </tr>\n  </thead>\n  <tbody>\n    <tr>\n      <th>0</th>\n      <td>33</td>\n      <td>male</td>\n      <td>2</td>\n      <td>own</td>\n      <td>None</td>\n      <td>None</td>\n      <td>3074</td>\n      <td>9</td>\n      <td>radio/TV</td>\n      <td>0</td>\n      <td>2008-06-29 18:52:00</td>\n      <td>210</td>\n    </tr>\n    <tr>\n      <th>1</th>\n      <td>43</td>\n      <td>male</td>\n      <td>1</td>\n      <td>own</td>\n      <td>little</td>\n      <td>little</td>\n      <td>1344</td>\n      <td>12</td>\n      <td>car</td>\n      <td>0</td>\n      <td>2007-05-20 18:30:19</td>\n      <td>929</td>\n    </tr>\n    <tr>\n      <th>2</th>\n      <td>35</td>\n      <td>female</td>\n      <td>3</td>\n      <td>own</td>\n      <td>little</td>\n      <td>None</td>\n      <td>1393</td>\n      <td>11</td>\n      <td>car</td>\n      <td>0</td>\n      <td>2007-05-06 10:58:22</td>\n      <td>45</td>\n    </tr>\n    <tr>\n      <th>3</th>\n      <td>27</td>\n      <td>female</td>\n      <td>2</td>\n      <td>own</td>\n      <td>little</td>\n      <td>moderate</td>\n      <td>1295</td>\n      <td>18</td>\n      <td>furniture/equipment</td>\n      <td>0</td>\n      <td>2008-06-18 04:10:05</td>\n      <td>86</td>\n    </tr>\n    <tr>\n      <th>4</th>\n      <td>26</td>\n      <td>male</td>\n      <td>2</td>\n      <td>own</td>\n      <td>little</td>\n      <td>little</td>\n      <td>4370</td>\n      <td>42</td>\n      <td>radio/TV</td>\n      <td>1</td>\n      <td>2007-11-29 00:20:44</td>\n      <td>639</td>\n    </tr>\n    <tr>\n      <th>...</th>\n      <td>...</td>\n      <td>...</td>\n      <td>...</td>\n      <td>...</td>\n      <td>...</td>\n      <td>...</td>\n      <td>...</td>\n      <td>...</td>\n      <td>...</td>\n      <td>...</td>\n      <td>...</td>\n      <td>...</td>\n    </tr>\n    <tr>\n      <th>879</th>\n      <td>65</td>\n      <td>male</td>\n      <td>2</td>\n      <td>free</td>\n      <td>little</td>\n      <td>little</td>\n      <td>2600</td>\n      <td>18</td>\n      <td>radio/TV</td>\n      <td>1</td>\n      <td>2007-12-16 20:17:19</td>\n      <td>624</td>\n    </tr>\n    <tr>\n      <th>880</th>\n      <td>30</td>\n      <td>male</td>\n      <td>3</td>\n      <td>own</td>\n      <td>little</td>\n      <td>moderate</td>\n      <td>4455</td>\n      <td>36</td>\n      <td>business</td>\n      <td>1</td>\n      <td>2007-07-12 14:08:58</td>\n      <td>181</td>\n    </tr>\n    <tr>\n      <th>881</th>\n      <td>33</td>\n      <td>male</td>\n      <td>2</td>\n      <td>own</td>\n      <td>little</td>\n      <td>moderate</td>\n      <td>6403</td>\n      <td>24</td>\n      <td>radio/TV</td>\n      <td>0</td>\n      <td>2008-04-08 03:24:26</td>\n      <td>730</td>\n    </tr>\n    <tr>\n      <th>882</th>\n      <td>29</td>\n      <td>female</td>\n      <td>2</td>\n      <td>own</td>\n      <td>None</td>\n      <td>None</td>\n      <td>5003</td>\n      <td>21</td>\n      <td>car</td>\n      <td>1</td>\n      <td>2007-11-29 15:51:45</td>\n      <td>557</td>\n    </tr>\n    <tr>\n      <th>883</th>\n      <td>44</td>\n      <td>male</td>\n      <td>2</td>\n      <td>own</td>\n      <td>moderate</td>\n      <td>moderate</td>\n      <td>1804</td>\n      <td>12</td>\n      <td>car</td>\n      <td>0</td>\n      <td>2007-08-14 09:05:33</td>\n      <td>23</td>\n    </tr>\n  </tbody>\n</table>\n<p>884 rows × 12 columns</p>\n</div>"
     },
     "execution_count": 1722,
     "metadata": {},
     "output_type": "execute_result"
    }
   ],
   "source": [
    "select(sql)"
   ],
   "metadata": {
    "collapsed": false
   }
  },
  {
   "cell_type": "code",
   "execution_count": 1723,
   "outputs": [],
   "source": [
    "sql = '''SELECT t.credit_amount,\n",
    "         CASE WHEN t.credit_amount > 1000 THEN 1 ELSE 0 END AS is_credit_amount_more_than_1000,\n",
    "         IIF(t.credit_amount > 1000, 1, 0) AS is_credit_amount2_more_than_1000\n",
    "         FROM german_credit t;\n",
    "'''"
   ],
   "metadata": {
    "collapsed": false
   }
  },
  {
   "cell_type": "code",
   "execution_count": 1724,
   "outputs": [
    {
     "data": {
      "text/plain": "     credit_amount  is_credit_amount_more_than_1000  \\\n0             3074                                1   \n1             1344                                1   \n2              936                                0   \n3             1393                                1   \n4              776                                0   \n..             ...                              ...   \n995           2600                                1   \n996           4455                                1   \n997           6403                                1   \n998           5003                                1   \n999           1804                                1   \n\n     is_credit_amount2_more_than_1000  \n0                                   1  \n1                                   1  \n2                                   0  \n3                                   1  \n4                                   0  \n..                                ...  \n995                                 1  \n996                                 1  \n997                                 1  \n998                                 1  \n999                                 1  \n\n[1000 rows x 3 columns]",
      "text/html": "<div>\n<style scoped>\n    .dataframe tbody tr th:only-of-type {\n        vertical-align: middle;\n    }\n\n    .dataframe tbody tr th {\n        vertical-align: top;\n    }\n\n    .dataframe thead th {\n        text-align: right;\n    }\n</style>\n<table border=\"1\" class=\"dataframe\">\n  <thead>\n    <tr style=\"text-align: right;\">\n      <th></th>\n      <th>credit_amount</th>\n      <th>is_credit_amount_more_than_1000</th>\n      <th>is_credit_amount2_more_than_1000</th>\n    </tr>\n  </thead>\n  <tbody>\n    <tr>\n      <th>0</th>\n      <td>3074</td>\n      <td>1</td>\n      <td>1</td>\n    </tr>\n    <tr>\n      <th>1</th>\n      <td>1344</td>\n      <td>1</td>\n      <td>1</td>\n    </tr>\n    <tr>\n      <th>2</th>\n      <td>936</td>\n      <td>0</td>\n      <td>0</td>\n    </tr>\n    <tr>\n      <th>3</th>\n      <td>1393</td>\n      <td>1</td>\n      <td>1</td>\n    </tr>\n    <tr>\n      <th>4</th>\n      <td>776</td>\n      <td>0</td>\n      <td>0</td>\n    </tr>\n    <tr>\n      <th>...</th>\n      <td>...</td>\n      <td>...</td>\n      <td>...</td>\n    </tr>\n    <tr>\n      <th>995</th>\n      <td>2600</td>\n      <td>1</td>\n      <td>1</td>\n    </tr>\n    <tr>\n      <th>996</th>\n      <td>4455</td>\n      <td>1</td>\n      <td>1</td>\n    </tr>\n    <tr>\n      <th>997</th>\n      <td>6403</td>\n      <td>1</td>\n      <td>1</td>\n    </tr>\n    <tr>\n      <th>998</th>\n      <td>5003</td>\n      <td>1</td>\n      <td>1</td>\n    </tr>\n    <tr>\n      <th>999</th>\n      <td>1804</td>\n      <td>1</td>\n      <td>1</td>\n    </tr>\n  </tbody>\n</table>\n<p>1000 rows × 3 columns</p>\n</div>"
     },
     "execution_count": 1724,
     "metadata": {},
     "output_type": "execute_result"
    }
   ],
   "source": [
    "select(sql)"
   ],
   "metadata": {
    "collapsed": false
   }
  },
  {
   "cell_type": "code",
   "execution_count": 1725,
   "outputs": [],
   "source": [
    "sql = '''SELECT t.credit_amount,\n",
    "         avg(CASE WHEN t.credit_amount > 1000 THEN 1 ELSE 0 END) as greater_1000_frac\n",
    "         FROM german_credit t;\n",
    "'''"
   ],
   "metadata": {
    "collapsed": false
   }
  },
  {
   "cell_type": "code",
   "execution_count": 1726,
   "outputs": [
    {
     "data": {
      "text/plain": "   credit_amount  greater_1000_frac\n0           3074              0.884",
      "text/html": "<div>\n<style scoped>\n    .dataframe tbody tr th:only-of-type {\n        vertical-align: middle;\n    }\n\n    .dataframe tbody tr th {\n        vertical-align: top;\n    }\n\n    .dataframe thead th {\n        text-align: right;\n    }\n</style>\n<table border=\"1\" class=\"dataframe\">\n  <thead>\n    <tr style=\"text-align: right;\">\n      <th></th>\n      <th>credit_amount</th>\n      <th>greater_1000_frac</th>\n    </tr>\n  </thead>\n  <tbody>\n    <tr>\n      <th>0</th>\n      <td>3074</td>\n      <td>0.884</td>\n    </tr>\n  </tbody>\n</table>\n</div>"
     },
     "execution_count": 1726,
     "metadata": {},
     "output_type": "execute_result"
    }
   ],
   "source": [
    "select(sql)"
   ],
   "metadata": {
    "collapsed": false
   }
  },
  {
   "cell_type": "code",
   "execution_count": 1727,
   "outputs": [],
   "source": [
    "sql = '''select t.* from german_credit t\n",
    "where t.credit_amount > 1000'''"
   ],
   "metadata": {
    "collapsed": false
   }
  },
  {
   "cell_type": "code",
   "execution_count": 1728,
   "outputs": [
    {
     "data": {
      "text/plain": "     age     sex  job housing saving_accounts checking_account  credit_amount  \\\n0     33    male    2     own            None             None           3074   \n1     43    male    1     own          little           little           1344   \n2     35  female    3     own          little             None           1393   \n3     27  female    2     own          little         moderate           1295   \n4     26    male    2     own          little           little           4370   \n..   ...     ...  ...     ...             ...              ...            ...   \n879   65    male    2    free          little           little           2600   \n880   30    male    3     own          little         moderate           4455   \n881   33    male    2     own          little         moderate           6403   \n882   29  female    2     own            None             None           5003   \n883   44    male    2     own        moderate         moderate           1804   \n\n     duration              purpose  default          contract_dt  client_id  \n0           9             radio/TV        0  2008-06-29 18:52:00        210  \n1          12                  car        0  2007-05-20 18:30:19        929  \n2          11                  car        0  2007-05-06 10:58:22         45  \n3          18  furniture/equipment        0  2008-06-18 04:10:05         86  \n4          42             radio/TV        1  2007-11-29 00:20:44        639  \n..        ...                  ...      ...                  ...        ...  \n879        18             radio/TV        1  2007-12-16 20:17:19        624  \n880        36             business        1  2007-07-12 14:08:58        181  \n881        24             radio/TV        0  2008-04-08 03:24:26        730  \n882        21                  car        1  2007-11-29 15:51:45        557  \n883        12                  car        0  2007-08-14 09:05:33         23  \n\n[884 rows x 12 columns]",
      "text/html": "<div>\n<style scoped>\n    .dataframe tbody tr th:only-of-type {\n        vertical-align: middle;\n    }\n\n    .dataframe tbody tr th {\n        vertical-align: top;\n    }\n\n    .dataframe thead th {\n        text-align: right;\n    }\n</style>\n<table border=\"1\" class=\"dataframe\">\n  <thead>\n    <tr style=\"text-align: right;\">\n      <th></th>\n      <th>age</th>\n      <th>sex</th>\n      <th>job</th>\n      <th>housing</th>\n      <th>saving_accounts</th>\n      <th>checking_account</th>\n      <th>credit_amount</th>\n      <th>duration</th>\n      <th>purpose</th>\n      <th>default</th>\n      <th>contract_dt</th>\n      <th>client_id</th>\n    </tr>\n  </thead>\n  <tbody>\n    <tr>\n      <th>0</th>\n      <td>33</td>\n      <td>male</td>\n      <td>2</td>\n      <td>own</td>\n      <td>None</td>\n      <td>None</td>\n      <td>3074</td>\n      <td>9</td>\n      <td>radio/TV</td>\n      <td>0</td>\n      <td>2008-06-29 18:52:00</td>\n      <td>210</td>\n    </tr>\n    <tr>\n      <th>1</th>\n      <td>43</td>\n      <td>male</td>\n      <td>1</td>\n      <td>own</td>\n      <td>little</td>\n      <td>little</td>\n      <td>1344</td>\n      <td>12</td>\n      <td>car</td>\n      <td>0</td>\n      <td>2007-05-20 18:30:19</td>\n      <td>929</td>\n    </tr>\n    <tr>\n      <th>2</th>\n      <td>35</td>\n      <td>female</td>\n      <td>3</td>\n      <td>own</td>\n      <td>little</td>\n      <td>None</td>\n      <td>1393</td>\n      <td>11</td>\n      <td>car</td>\n      <td>0</td>\n      <td>2007-05-06 10:58:22</td>\n      <td>45</td>\n    </tr>\n    <tr>\n      <th>3</th>\n      <td>27</td>\n      <td>female</td>\n      <td>2</td>\n      <td>own</td>\n      <td>little</td>\n      <td>moderate</td>\n      <td>1295</td>\n      <td>18</td>\n      <td>furniture/equipment</td>\n      <td>0</td>\n      <td>2008-06-18 04:10:05</td>\n      <td>86</td>\n    </tr>\n    <tr>\n      <th>4</th>\n      <td>26</td>\n      <td>male</td>\n      <td>2</td>\n      <td>own</td>\n      <td>little</td>\n      <td>little</td>\n      <td>4370</td>\n      <td>42</td>\n      <td>radio/TV</td>\n      <td>1</td>\n      <td>2007-11-29 00:20:44</td>\n      <td>639</td>\n    </tr>\n    <tr>\n      <th>...</th>\n      <td>...</td>\n      <td>...</td>\n      <td>...</td>\n      <td>...</td>\n      <td>...</td>\n      <td>...</td>\n      <td>...</td>\n      <td>...</td>\n      <td>...</td>\n      <td>...</td>\n      <td>...</td>\n      <td>...</td>\n    </tr>\n    <tr>\n      <th>879</th>\n      <td>65</td>\n      <td>male</td>\n      <td>2</td>\n      <td>free</td>\n      <td>little</td>\n      <td>little</td>\n      <td>2600</td>\n      <td>18</td>\n      <td>radio/TV</td>\n      <td>1</td>\n      <td>2007-12-16 20:17:19</td>\n      <td>624</td>\n    </tr>\n    <tr>\n      <th>880</th>\n      <td>30</td>\n      <td>male</td>\n      <td>3</td>\n      <td>own</td>\n      <td>little</td>\n      <td>moderate</td>\n      <td>4455</td>\n      <td>36</td>\n      <td>business</td>\n      <td>1</td>\n      <td>2007-07-12 14:08:58</td>\n      <td>181</td>\n    </tr>\n    <tr>\n      <th>881</th>\n      <td>33</td>\n      <td>male</td>\n      <td>2</td>\n      <td>own</td>\n      <td>little</td>\n      <td>moderate</td>\n      <td>6403</td>\n      <td>24</td>\n      <td>radio/TV</td>\n      <td>0</td>\n      <td>2008-04-08 03:24:26</td>\n      <td>730</td>\n    </tr>\n    <tr>\n      <th>882</th>\n      <td>29</td>\n      <td>female</td>\n      <td>2</td>\n      <td>own</td>\n      <td>None</td>\n      <td>None</td>\n      <td>5003</td>\n      <td>21</td>\n      <td>car</td>\n      <td>1</td>\n      <td>2007-11-29 15:51:45</td>\n      <td>557</td>\n    </tr>\n    <tr>\n      <th>883</th>\n      <td>44</td>\n      <td>male</td>\n      <td>2</td>\n      <td>own</td>\n      <td>moderate</td>\n      <td>moderate</td>\n      <td>1804</td>\n      <td>12</td>\n      <td>car</td>\n      <td>0</td>\n      <td>2007-08-14 09:05:33</td>\n      <td>23</td>\n    </tr>\n  </tbody>\n</table>\n<p>884 rows × 12 columns</p>\n</div>"
     },
     "execution_count": 1728,
     "metadata": {},
     "output_type": "execute_result"
    }
   ],
   "source": [
    "select(sql)"
   ],
   "metadata": {
    "collapsed": false
   }
  },
  {
   "cell_type": "code",
   "execution_count": 1729,
   "outputs": [],
   "source": [
    "cur = con.cursor()"
   ],
   "metadata": {
    "collapsed": false
   }
  },
  {
   "cell_type": "code",
   "execution_count": 1730,
   "outputs": [],
   "source": [
    "sql = '''\n",
    "drop table if exists greater_1000_credit;\n",
    "\n",
    "create table greater_1000_credit as\n",
    "select t.* from german_credit t\n",
    "where t.credit_amount > 1000'''"
   ],
   "metadata": {
    "collapsed": false
   }
  },
  {
   "cell_type": "code",
   "execution_count": 1734,
   "outputs": [
    {
     "data": {
      "text/plain": "<sqlite3.Cursor at 0x1d9b2eae8c0>"
     },
     "execution_count": 1734,
     "metadata": {},
     "output_type": "execute_result"
    }
   ],
   "source": [
    "cur.executescript(sql)"
   ],
   "metadata": {
    "collapsed": false
   }
  },
  {
   "cell_type": "code",
   "execution_count": 1735,
   "outputs": [],
   "source": [
    "sql = '''select * from greater_1000_credit t'''"
   ],
   "metadata": {
    "collapsed": false
   }
  },
  {
   "cell_type": "code",
   "execution_count": 1736,
   "outputs": [
    {
     "data": {
      "text/plain": "     age     sex  job housing saving_accounts checking_account  credit_amount  \\\n0     33    male    2     own            None             None           3074   \n1     43    male    1     own          little           little           1344   \n2     35  female    3     own          little             None           1393   \n3     27  female    2     own          little         moderate           1295   \n4     26    male    2     own          little           little           4370   \n..   ...     ...  ...     ...             ...              ...            ...   \n879   65    male    2    free          little           little           2600   \n880   30    male    3     own          little         moderate           4455   \n881   33    male    2     own          little         moderate           6403   \n882   29  female    2     own            None             None           5003   \n883   44    male    2     own        moderate         moderate           1804   \n\n     duration              purpose  default          contract_dt  client_id  \n0           9             radio/TV        0  2008-06-29 18:52:00        210  \n1          12                  car        0  2007-05-20 18:30:19        929  \n2          11                  car        0  2007-05-06 10:58:22         45  \n3          18  furniture/equipment        0  2008-06-18 04:10:05         86  \n4          42             radio/TV        1  2007-11-29 00:20:44        639  \n..        ...                  ...      ...                  ...        ...  \n879        18             radio/TV        1  2007-12-16 20:17:19        624  \n880        36             business        1  2007-07-12 14:08:58        181  \n881        24             radio/TV        0  2008-04-08 03:24:26        730  \n882        21                  car        1  2007-11-29 15:51:45        557  \n883        12                  car        0  2007-08-14 09:05:33         23  \n\n[884 rows x 12 columns]",
      "text/html": "<div>\n<style scoped>\n    .dataframe tbody tr th:only-of-type {\n        vertical-align: middle;\n    }\n\n    .dataframe tbody tr th {\n        vertical-align: top;\n    }\n\n    .dataframe thead th {\n        text-align: right;\n    }\n</style>\n<table border=\"1\" class=\"dataframe\">\n  <thead>\n    <tr style=\"text-align: right;\">\n      <th></th>\n      <th>age</th>\n      <th>sex</th>\n      <th>job</th>\n      <th>housing</th>\n      <th>saving_accounts</th>\n      <th>checking_account</th>\n      <th>credit_amount</th>\n      <th>duration</th>\n      <th>purpose</th>\n      <th>default</th>\n      <th>contract_dt</th>\n      <th>client_id</th>\n    </tr>\n  </thead>\n  <tbody>\n    <tr>\n      <th>0</th>\n      <td>33</td>\n      <td>male</td>\n      <td>2</td>\n      <td>own</td>\n      <td>None</td>\n      <td>None</td>\n      <td>3074</td>\n      <td>9</td>\n      <td>radio/TV</td>\n      <td>0</td>\n      <td>2008-06-29 18:52:00</td>\n      <td>210</td>\n    </tr>\n    <tr>\n      <th>1</th>\n      <td>43</td>\n      <td>male</td>\n      <td>1</td>\n      <td>own</td>\n      <td>little</td>\n      <td>little</td>\n      <td>1344</td>\n      <td>12</td>\n      <td>car</td>\n      <td>0</td>\n      <td>2007-05-20 18:30:19</td>\n      <td>929</td>\n    </tr>\n    <tr>\n      <th>2</th>\n      <td>35</td>\n      <td>female</td>\n      <td>3</td>\n      <td>own</td>\n      <td>little</td>\n      <td>None</td>\n      <td>1393</td>\n      <td>11</td>\n      <td>car</td>\n      <td>0</td>\n      <td>2007-05-06 10:58:22</td>\n      <td>45</td>\n    </tr>\n    <tr>\n      <th>3</th>\n      <td>27</td>\n      <td>female</td>\n      <td>2</td>\n      <td>own</td>\n      <td>little</td>\n      <td>moderate</td>\n      <td>1295</td>\n      <td>18</td>\n      <td>furniture/equipment</td>\n      <td>0</td>\n      <td>2008-06-18 04:10:05</td>\n      <td>86</td>\n    </tr>\n    <tr>\n      <th>4</th>\n      <td>26</td>\n      <td>male</td>\n      <td>2</td>\n      <td>own</td>\n      <td>little</td>\n      <td>little</td>\n      <td>4370</td>\n      <td>42</td>\n      <td>radio/TV</td>\n      <td>1</td>\n      <td>2007-11-29 00:20:44</td>\n      <td>639</td>\n    </tr>\n    <tr>\n      <th>...</th>\n      <td>...</td>\n      <td>...</td>\n      <td>...</td>\n      <td>...</td>\n      <td>...</td>\n      <td>...</td>\n      <td>...</td>\n      <td>...</td>\n      <td>...</td>\n      <td>...</td>\n      <td>...</td>\n      <td>...</td>\n    </tr>\n    <tr>\n      <th>879</th>\n      <td>65</td>\n      <td>male</td>\n      <td>2</td>\n      <td>free</td>\n      <td>little</td>\n      <td>little</td>\n      <td>2600</td>\n      <td>18</td>\n      <td>radio/TV</td>\n      <td>1</td>\n      <td>2007-12-16 20:17:19</td>\n      <td>624</td>\n    </tr>\n    <tr>\n      <th>880</th>\n      <td>30</td>\n      <td>male</td>\n      <td>3</td>\n      <td>own</td>\n      <td>little</td>\n      <td>moderate</td>\n      <td>4455</td>\n      <td>36</td>\n      <td>business</td>\n      <td>1</td>\n      <td>2007-07-12 14:08:58</td>\n      <td>181</td>\n    </tr>\n    <tr>\n      <th>881</th>\n      <td>33</td>\n      <td>male</td>\n      <td>2</td>\n      <td>own</td>\n      <td>little</td>\n      <td>moderate</td>\n      <td>6403</td>\n      <td>24</td>\n      <td>radio/TV</td>\n      <td>0</td>\n      <td>2008-04-08 03:24:26</td>\n      <td>730</td>\n    </tr>\n    <tr>\n      <th>882</th>\n      <td>29</td>\n      <td>female</td>\n      <td>2</td>\n      <td>own</td>\n      <td>None</td>\n      <td>None</td>\n      <td>5003</td>\n      <td>21</td>\n      <td>car</td>\n      <td>1</td>\n      <td>2007-11-29 15:51:45</td>\n      <td>557</td>\n    </tr>\n    <tr>\n      <th>883</th>\n      <td>44</td>\n      <td>male</td>\n      <td>2</td>\n      <td>own</td>\n      <td>moderate</td>\n      <td>moderate</td>\n      <td>1804</td>\n      <td>12</td>\n      <td>car</td>\n      <td>0</td>\n      <td>2007-08-14 09:05:33</td>\n      <td>23</td>\n    </tr>\n  </tbody>\n</table>\n<p>884 rows × 12 columns</p>\n</div>"
     },
     "execution_count": 1736,
     "metadata": {},
     "output_type": "execute_result"
    }
   ],
   "source": [
    "select(sql)"
   ],
   "metadata": {
    "collapsed": false
   }
  },
  {
   "cell_type": "code",
   "execution_count": 1737,
   "outputs": [
    {
     "data": {
      "text/plain": "'Union all'"
     },
     "execution_count": 1737,
     "metadata": {},
     "output_type": "execute_result"
    }
   ],
   "source": [
    "'''Union all'''"
   ],
   "metadata": {
    "collapsed": false
   }
  },
  {
   "cell_type": "code",
   "execution_count": 1738,
   "outputs": [],
   "source": [
    "jan = pd.DataFrame({'month':['jan','jan'],'revenue':[1,2]})\n",
    "feb = pd.DataFrame({'month':['feb','feb'],'revenue':[1,2]})"
   ],
   "metadata": {
    "collapsed": false
   }
  },
  {
   "cell_type": "code",
   "execution_count": 1739,
   "outputs": [
    {
     "data": {
      "text/plain": "2"
     },
     "execution_count": 1739,
     "metadata": {},
     "output_type": "execute_result"
    }
   ],
   "source": [
    "jan.to_sql('jan',con,index=False,if_exists='replace')\n",
    "feb.to_sql('feb',con,index=False,if_exists='replace')"
   ],
   "metadata": {
    "collapsed": false
   }
  },
  {
   "cell_type": "code",
   "execution_count": 1740,
   "outputs": [],
   "source": [
    "sql = '''select * from jan t\n",
    "union all\n",
    "select * from feb t'''"
   ],
   "metadata": {
    "collapsed": false
   }
  },
  {
   "cell_type": "code",
   "execution_count": 1741,
   "outputs": [
    {
     "data": {
      "text/plain": "  month  revenue\n0   jan        1\n1   jan        2\n2   feb        1\n3   feb        2",
      "text/html": "<div>\n<style scoped>\n    .dataframe tbody tr th:only-of-type {\n        vertical-align: middle;\n    }\n\n    .dataframe tbody tr th {\n        vertical-align: top;\n    }\n\n    .dataframe thead th {\n        text-align: right;\n    }\n</style>\n<table border=\"1\" class=\"dataframe\">\n  <thead>\n    <tr style=\"text-align: right;\">\n      <th></th>\n      <th>month</th>\n      <th>revenue</th>\n    </tr>\n  </thead>\n  <tbody>\n    <tr>\n      <th>0</th>\n      <td>jan</td>\n      <td>1</td>\n    </tr>\n    <tr>\n      <th>1</th>\n      <td>jan</td>\n      <td>2</td>\n    </tr>\n    <tr>\n      <th>2</th>\n      <td>feb</td>\n      <td>1</td>\n    </tr>\n    <tr>\n      <th>3</th>\n      <td>feb</td>\n      <td>2</td>\n    </tr>\n  </tbody>\n</table>\n</div>"
     },
     "execution_count": 1741,
     "metadata": {},
     "output_type": "execute_result"
    }
   ],
   "source": [
    "select(sql)"
   ],
   "metadata": {
    "collapsed": false
   }
  },
  {
   "cell_type": "code",
   "execution_count": null,
   "outputs": [],
   "source": [],
   "metadata": {
    "collapsed": false
   }
  }
 ],
 "metadata": {
  "kernelspec": {
   "display_name": "Python 3",
   "language": "python",
   "name": "python3"
  },
  "language_info": {
   "codemirror_mode": {
    "name": "ipython",
    "version": 2
   },
   "file_extension": ".py",
   "mimetype": "text/x-python",
   "name": "python",
   "nbconvert_exporter": "python",
   "pygments_lexer": "ipython2",
   "version": "2.7.6"
  }
 },
 "nbformat": 4,
 "nbformat_minor": 0
}
