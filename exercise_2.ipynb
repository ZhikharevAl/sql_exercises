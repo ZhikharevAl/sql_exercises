{
 "cells": [
  {
   "cell_type": "code",
   "execution_count": 16,
   "metadata": {
    "collapsed": true
   },
   "outputs": [],
   "source": [
    "import sqlite3\n",
    "con = sqlite3.connect('db')"
   ]
  },
  {
   "cell_type": "code",
   "execution_count": 17,
   "outputs": [],
   "source": [
    "import pandas as pd\n",
    "import numpy as np"
   ],
   "metadata": {
    "collapsed": false
   }
  },
  {
   "cell_type": "code",
   "execution_count": 18,
   "outputs": [
    {
     "data": {
      "text/plain": "'3.39.4'"
     },
     "execution_count": 18,
     "metadata": {},
     "output_type": "execute_result"
    }
   ],
   "source": [
    "sqlite3.sqlite_version"
   ],
   "metadata": {
    "collapsed": false
   }
  },
  {
   "cell_type": "code",
   "execution_count": 19,
   "outputs": [
    {
     "data": {
      "text/plain": "   age     sex  job housing saving_accounts checking_account  credit_amount  \\\n0   33    male    2     own             NaN              NaN           3074   \n1   43    male    1     own          little           little           1344   \n2   52    male    2     own      quite rich              NaN            936   \n3   35  female    3     own          little              NaN           1393   \n4   28    male    2     own          little              NaN            776   \n\n   duration    purpose  default          contract_dt  client_id  \n0         9   radio/TV        0  2008-06-29 18:52:00        210  \n1        12        car        0  2007-05-20 18:30:19        929  \n2         9  education        0  2008-04-27 08:23:07        200  \n3        11        car        0  2007-05-06 10:58:22         45  \n4        12   radio/TV        0  2007-07-21 13:22:14        358  ",
      "text/html": "<div>\n<style scoped>\n    .dataframe tbody tr th:only-of-type {\n        vertical-align: middle;\n    }\n\n    .dataframe tbody tr th {\n        vertical-align: top;\n    }\n\n    .dataframe thead th {\n        text-align: right;\n    }\n</style>\n<table border=\"1\" class=\"dataframe\">\n  <thead>\n    <tr style=\"text-align: right;\">\n      <th></th>\n      <th>age</th>\n      <th>sex</th>\n      <th>job</th>\n      <th>housing</th>\n      <th>saving_accounts</th>\n      <th>checking_account</th>\n      <th>credit_amount</th>\n      <th>duration</th>\n      <th>purpose</th>\n      <th>default</th>\n      <th>contract_dt</th>\n      <th>client_id</th>\n    </tr>\n  </thead>\n  <tbody>\n    <tr>\n      <th>0</th>\n      <td>33</td>\n      <td>male</td>\n      <td>2</td>\n      <td>own</td>\n      <td>NaN</td>\n      <td>NaN</td>\n      <td>3074</td>\n      <td>9</td>\n      <td>radio/TV</td>\n      <td>0</td>\n      <td>2008-06-29 18:52:00</td>\n      <td>210</td>\n    </tr>\n    <tr>\n      <th>1</th>\n      <td>43</td>\n      <td>male</td>\n      <td>1</td>\n      <td>own</td>\n      <td>little</td>\n      <td>little</td>\n      <td>1344</td>\n      <td>12</td>\n      <td>car</td>\n      <td>0</td>\n      <td>2007-05-20 18:30:19</td>\n      <td>929</td>\n    </tr>\n    <tr>\n      <th>2</th>\n      <td>52</td>\n      <td>male</td>\n      <td>2</td>\n      <td>own</td>\n      <td>quite rich</td>\n      <td>NaN</td>\n      <td>936</td>\n      <td>9</td>\n      <td>education</td>\n      <td>0</td>\n      <td>2008-04-27 08:23:07</td>\n      <td>200</td>\n    </tr>\n    <tr>\n      <th>3</th>\n      <td>35</td>\n      <td>female</td>\n      <td>3</td>\n      <td>own</td>\n      <td>little</td>\n      <td>NaN</td>\n      <td>1393</td>\n      <td>11</td>\n      <td>car</td>\n      <td>0</td>\n      <td>2007-05-06 10:58:22</td>\n      <td>45</td>\n    </tr>\n    <tr>\n      <th>4</th>\n      <td>28</td>\n      <td>male</td>\n      <td>2</td>\n      <td>own</td>\n      <td>little</td>\n      <td>NaN</td>\n      <td>776</td>\n      <td>12</td>\n      <td>radio/TV</td>\n      <td>0</td>\n      <td>2007-07-21 13:22:14</td>\n      <td>358</td>\n    </tr>\n  </tbody>\n</table>\n</div>"
     },
     "execution_count": 19,
     "metadata": {},
     "output_type": "execute_result"
    }
   ],
   "source": [
    "df = pd.read_csv('database/german_credit_augmented.csv')\n",
    "df.head()"
   ],
   "metadata": {
    "collapsed": false
   }
  },
  {
   "cell_type": "code",
   "execution_count": 20,
   "outputs": [],
   "source": [
    "df['contract_dt'] = pd.to_datetime(df['contract_dt'], format='%Y-%m-%d %H:%M:%S')"
   ],
   "metadata": {
    "collapsed": false
   }
  },
  {
   "cell_type": "code",
   "execution_count": 22,
   "outputs": [
    {
     "data": {
      "text/plain": "age                          int64\nsex                         object\njob                          int64\nhousing                     object\nsaving_accounts             object\nchecking_account            object\ncredit_amount                int64\nduration                     int64\npurpose                     object\ndefault                      int64\ncontract_dt         datetime64[ns]\nclient_id                    int64\ndtype: object"
     },
     "execution_count": 22,
     "metadata": {},
     "output_type": "execute_result"
    }
   ],
   "source": [
    "df.dtypes"
   ],
   "metadata": {
    "collapsed": false
   }
  },
  {
   "cell_type": "code",
   "execution_count": 24,
   "outputs": [
    {
     "data": {
      "text/plain": "1000"
     },
     "execution_count": 24,
     "metadata": {},
     "output_type": "execute_result"
    }
   ],
   "source": [
    "df.to_sql('german_credit', con, index=False, if_exists='replace')"
   ],
   "metadata": {
    "collapsed": false
   }
  },
  {
   "cell_type": "code",
   "execution_count": 26,
   "outputs": [],
   "source": [
    "def select(sql):\n",
    "    return pd.read_sql(sql, con)"
   ],
   "metadata": {
    "collapsed": false
   }
  },
  {
   "cell_type": "code",
   "execution_count": 29,
   "outputs": [
    {
     "data": {
      "text/plain": "   age     sex  job housing saving_accounts checking_account  credit_amount  \\\n0   33    male    2     own            None             None           3074   \n1   43    male    1     own          little           little           1344   \n2   52    male    2     own      quite rich             None            936   \n3   35  female    3     own          little             None           1393   \n4   28    male    2     own          little             None            776   \n5   27  female    2     own          little         moderate           1295   \n6   29  female    2     own          little         moderate            959   \n7   42  female    2    rent            rich             rich            409   \n8   26    male    2     own          little           little           4370   \n9   55    male    2    free            rich             None           1555   \n\n   duration              purpose  default          contract_dt  client_id  \n0         9             radio/TV        0  2008-06-29 18:52:00        210  \n1        12                  car        0  2007-05-20 18:30:19        929  \n2         9            education        0  2008-04-27 08:23:07        200  \n3        11                  car        0  2007-05-06 10:58:22         45  \n4        12             radio/TV        0  2007-07-21 13:22:14        358  \n5        18  furniture/equipment        0  2008-06-18 04:10:05         86  \n6         9  furniture/equipment        1  2007-05-21 14:32:00        351  \n7        12             radio/TV        0  2008-06-05 05:31:13         27  \n8        42             radio/TV        1  2007-11-29 00:20:44        639  \n9        12              repairs        1  2007-09-11 20:27:28        754  ",
      "text/html": "<div>\n<style scoped>\n    .dataframe tbody tr th:only-of-type {\n        vertical-align: middle;\n    }\n\n    .dataframe tbody tr th {\n        vertical-align: top;\n    }\n\n    .dataframe thead th {\n        text-align: right;\n    }\n</style>\n<table border=\"1\" class=\"dataframe\">\n  <thead>\n    <tr style=\"text-align: right;\">\n      <th></th>\n      <th>age</th>\n      <th>sex</th>\n      <th>job</th>\n      <th>housing</th>\n      <th>saving_accounts</th>\n      <th>checking_account</th>\n      <th>credit_amount</th>\n      <th>duration</th>\n      <th>purpose</th>\n      <th>default</th>\n      <th>contract_dt</th>\n      <th>client_id</th>\n    </tr>\n  </thead>\n  <tbody>\n    <tr>\n      <th>0</th>\n      <td>33</td>\n      <td>male</td>\n      <td>2</td>\n      <td>own</td>\n      <td>None</td>\n      <td>None</td>\n      <td>3074</td>\n      <td>9</td>\n      <td>radio/TV</td>\n      <td>0</td>\n      <td>2008-06-29 18:52:00</td>\n      <td>210</td>\n    </tr>\n    <tr>\n      <th>1</th>\n      <td>43</td>\n      <td>male</td>\n      <td>1</td>\n      <td>own</td>\n      <td>little</td>\n      <td>little</td>\n      <td>1344</td>\n      <td>12</td>\n      <td>car</td>\n      <td>0</td>\n      <td>2007-05-20 18:30:19</td>\n      <td>929</td>\n    </tr>\n    <tr>\n      <th>2</th>\n      <td>52</td>\n      <td>male</td>\n      <td>2</td>\n      <td>own</td>\n      <td>quite rich</td>\n      <td>None</td>\n      <td>936</td>\n      <td>9</td>\n      <td>education</td>\n      <td>0</td>\n      <td>2008-04-27 08:23:07</td>\n      <td>200</td>\n    </tr>\n    <tr>\n      <th>3</th>\n      <td>35</td>\n      <td>female</td>\n      <td>3</td>\n      <td>own</td>\n      <td>little</td>\n      <td>None</td>\n      <td>1393</td>\n      <td>11</td>\n      <td>car</td>\n      <td>0</td>\n      <td>2007-05-06 10:58:22</td>\n      <td>45</td>\n    </tr>\n    <tr>\n      <th>4</th>\n      <td>28</td>\n      <td>male</td>\n      <td>2</td>\n      <td>own</td>\n      <td>little</td>\n      <td>None</td>\n      <td>776</td>\n      <td>12</td>\n      <td>radio/TV</td>\n      <td>0</td>\n      <td>2007-07-21 13:22:14</td>\n      <td>358</td>\n    </tr>\n    <tr>\n      <th>5</th>\n      <td>27</td>\n      <td>female</td>\n      <td>2</td>\n      <td>own</td>\n      <td>little</td>\n      <td>moderate</td>\n      <td>1295</td>\n      <td>18</td>\n      <td>furniture/equipment</td>\n      <td>0</td>\n      <td>2008-06-18 04:10:05</td>\n      <td>86</td>\n    </tr>\n    <tr>\n      <th>6</th>\n      <td>29</td>\n      <td>female</td>\n      <td>2</td>\n      <td>own</td>\n      <td>little</td>\n      <td>moderate</td>\n      <td>959</td>\n      <td>9</td>\n      <td>furniture/equipment</td>\n      <td>1</td>\n      <td>2007-05-21 14:32:00</td>\n      <td>351</td>\n    </tr>\n    <tr>\n      <th>7</th>\n      <td>42</td>\n      <td>female</td>\n      <td>2</td>\n      <td>rent</td>\n      <td>rich</td>\n      <td>rich</td>\n      <td>409</td>\n      <td>12</td>\n      <td>radio/TV</td>\n      <td>0</td>\n      <td>2008-06-05 05:31:13</td>\n      <td>27</td>\n    </tr>\n    <tr>\n      <th>8</th>\n      <td>26</td>\n      <td>male</td>\n      <td>2</td>\n      <td>own</td>\n      <td>little</td>\n      <td>little</td>\n      <td>4370</td>\n      <td>42</td>\n      <td>radio/TV</td>\n      <td>1</td>\n      <td>2007-11-29 00:20:44</td>\n      <td>639</td>\n    </tr>\n    <tr>\n      <th>9</th>\n      <td>55</td>\n      <td>male</td>\n      <td>2</td>\n      <td>free</td>\n      <td>rich</td>\n      <td>None</td>\n      <td>1555</td>\n      <td>12</td>\n      <td>repairs</td>\n      <td>1</td>\n      <td>2007-09-11 20:27:28</td>\n      <td>754</td>\n    </tr>\n  </tbody>\n</table>\n</div>"
     },
     "execution_count": 29,
     "metadata": {},
     "output_type": "execute_result"
    }
   ],
   "source": [
    "sql = '''select t.* from german_credit t limit 10'''\n",
    "select(sql)"
   ],
   "metadata": {
    "collapsed": false
   }
  }
 ],
 "metadata": {
  "kernelspec": {
   "display_name": "Python 3",
   "language": "python",
   "name": "python3"
  },
  "language_info": {
   "codemirror_mode": {
    "name": "ipython",
    "version": 2
   },
   "file_extension": ".py",
   "mimetype": "text/x-python",
   "name": "python",
   "nbconvert_exporter": "python",
   "pygments_lexer": "ipython2",
   "version": "2.7.6"
  }
 },
 "nbformat": 4,
 "nbformat_minor": 0
}
